{
 "cells": [
  {
   "cell_type": "markdown",
   "id": "180ec8fb-e52a-4f1c-8748-2f57913976ce",
   "metadata": {},
   "source": [
    "Add an integer and float. What is the result’s type?\n"
   ]
  },
  {
   "cell_type": "code",
   "execution_count": 3,
   "id": "261b0743-57ba-4857-b70d-b71e1bdbdf20",
   "metadata": {},
   "outputs": [
    {
     "name": "stdout",
     "output_type": "stream",
     "text": [
      "13.9\n"
     ]
    },
    {
     "data": {
      "text/plain": [
       "float"
      ]
     },
     "execution_count": 3,
     "metadata": {},
     "output_type": "execute_result"
    }
   ],
   "source": [
    "x=5\n",
    "y=8.9\n",
    "z=x+y\n",
    "print(z)\n",
    "type(z)"
   ]
  },
  {
   "cell_type": "markdown",
   "id": "4a2e23a3-96b6-4b85-8503-a7c0450c8389",
   "metadata": {},
   "source": [
    "Create a string and access its:\n",
    "First character\n",
    "Last character\n",
    "A substring from index 2 to 5\n"
   ]
  },
  {
   "cell_type": "code",
   "execution_count": 5,
   "id": "19acd093-f0f1-4abb-845d-fc44155f62a0",
   "metadata": {},
   "outputs": [
    {
     "name": "stdout",
     "output_type": "stream",
     "text": [
      "h\n",
      "d\n",
      "llo\n"
     ]
    }
   ],
   "source": [
    "a=\"hello world\"\n",
    "print(a[0])\n",
    "print(a[-1])\n",
    "print(a[2:5])"
   ]
  },
  {
   "cell_type": "markdown",
   "id": "c645c0c0-9b9f-4e81-a69c-826f04ccbc82",
   "metadata": {},
   "source": [
    "Concatenate two strings and print the result.\n"
   ]
  },
  {
   "cell_type": "code",
   "execution_count": 6,
   "id": "2bdecfce-80e3-446f-a181-e962dc5fa5ea",
   "metadata": {},
   "outputs": [
    {
     "name": "stdout",
     "output_type": "stream",
     "text": [
      "helloworld\n"
     ]
    }
   ],
   "source": [
    "a=\"hello\"\n",
    "b=\"world\"\n",
    "x=a+b\n",
    "print(x)"
   ]
  },
  {
   "cell_type": "markdown",
   "id": "1249b80f-4e2e-4ac7-aa40-56cf0f92147c",
   "metadata": {},
   "source": [
    "Define list. What are the difference between List and Tuple.\n"
   ]
  },
  {
   "cell_type": "markdown",
   "id": "16b8d21a-a508-40c4-a3a6-fbd1bc7d9d99",
   "metadata": {},
   "source": [
    "An ordered, mutable collection of elements in Python, written with square brackets [ ].\n",
    "1. Lists are mutable(can be modified).\tTuples are immutable(cannot be modified).\n",
    "2. list is denoted by Square brackets [ ], whereas tuple is denoted by\tParentheses ( )\n",
    "3. Both have ordered collection of elements"
   ]
  },
  {
   "cell_type": "markdown",
   "id": "7f33234e-cfd3-4050-a904-c0bb78703821",
   "metadata": {},
   "source": [
    "Write a programme to print a list in reverse order.\n"
   ]
  },
  {
   "cell_type": "code",
   "execution_count": 10,
   "id": "55699957-b5a3-4e87-819a-dd39da4bb9a5",
   "metadata": {},
   "outputs": [
    {
     "name": "stdout",
     "output_type": "stream",
     "text": [
      "[6, 5.4, 'muskan', 'ayesha', 2, 1]\n"
     ]
    }
   ],
   "source": [
    "a=[1,2,\"ayesha\",\"muskan\",5.4,6]\n",
    "print(a[::-1])"
   ]
  },
  {
   "cell_type": "markdown",
   "id": "5d1bd423-2fde-4868-b86c-13ccc7adb22d",
   "metadata": {},
   "source": [
    "Create a tuple of 4 elements. Print the first and last element.\n"
   ]
  },
  {
   "cell_type": "code",
   "execution_count": 11,
   "id": "58ea43d0-0117-4f32-bbda-b250cccf3d16",
   "metadata": {},
   "outputs": [
    {
     "name": "stdout",
     "output_type": "stream",
     "text": [
      "1\n",
      "4\n"
     ]
    }
   ],
   "source": [
    "a=(1,2,3,4)\n",
    "print(a[0])\n",
    "print(a[3])"
   ]
  },
  {
   "cell_type": "markdown",
   "id": "fa37f471-b31d-4785-8c77-c2649046c693",
   "metadata": {},
   "source": [
    "Try changing a value in a tuple. What happens?\n"
   ]
  },
  {
   "cell_type": "code",
   "execution_count": 12,
   "id": "8d5390ef-2a33-4b5b-a791-1f903948228f",
   "metadata": {},
   "outputs": [
    {
     "ename": "TypeError",
     "evalue": "'tuple' object does not support item assignment",
     "output_type": "error",
     "traceback": [
      "\u001b[1;31m---------------------------------------------------------------------------\u001b[0m",
      "\u001b[1;31mTypeError\u001b[0m                                 Traceback (most recent call last)",
      "Cell \u001b[1;32mIn[12], line 2\u001b[0m\n\u001b[0;32m      1\u001b[0m a\u001b[38;5;241m=\u001b[39m(\u001b[38;5;241m1\u001b[39m,\u001b[38;5;241m2\u001b[39m,\u001b[38;5;241m3\u001b[39m,\u001b[38;5;241m4\u001b[39m)\n\u001b[1;32m----> 2\u001b[0m a[\u001b[38;5;241m1\u001b[39m]\u001b[38;5;241m=\u001b[39m\u001b[38;5;241m8\u001b[39m\n",
      "\u001b[1;31mTypeError\u001b[0m: 'tuple' object does not support item assignment"
     ]
    }
   ],
   "source": [
    "a=(1,2,3,4)\n",
    "a[1]=8"
   ]
  },
  {
   "cell_type": "markdown",
   "id": "142df7da-9c1c-4662-bfb6-9f0945e4ae1c",
   "metadata": {},
   "source": [
    "Create a dictionary of 3 students with their marks. Print the dictionary.\n"
   ]
  },
  {
   "cell_type": "code",
   "execution_count": 13,
   "id": "fd29b89a-fc06-423f-8131-94c52f8360d3",
   "metadata": {},
   "outputs": [
    {
     "name": "stdout",
     "output_type": "stream",
     "text": [
      "{'ayesha': 99, 'minnie': 85, 'miccky': 96}\n"
     ]
    }
   ],
   "source": [
    "student_data={\"ayesha\":99,\"minnie\":85,\"miccky\":96}\n",
    "print(student_data)"
   ]
  },
  {
   "cell_type": "markdown",
   "id": "f27158f0-9ead-400e-92b1-775bdbed8fee",
   "metadata": {},
   "source": [
    "Access the marks of one student using their name.\n"
   ]
  },
  {
   "cell_type": "code",
   "execution_count": 15,
   "id": "d49d981b-3f06-460b-ae8a-dd82f2f81c65",
   "metadata": {},
   "outputs": [
    {
     "data": {
      "text/plain": [
       "85"
      ]
     },
     "execution_count": 15,
     "metadata": {},
     "output_type": "execute_result"
    }
   ],
   "source": [
    "student_data[\"minnie\"]"
   ]
  },
  {
   "cell_type": "markdown",
   "id": "8afdccd6-7b2d-4320-a18a-be333efb502f",
   "metadata": {},
   "source": [
    "Update the marks of an existing student.\n"
   ]
  },
  {
   "cell_type": "code",
   "execution_count": 18,
   "id": "147e419e-11f1-4ff3-ae01-b370913aad24",
   "metadata": {},
   "outputs": [
    {
     "name": "stdout",
     "output_type": "stream",
     "text": [
      "{'ayesha': 88, 'minnie': 85, 'miccky': 96, 1: 88}\n"
     ]
    }
   ],
   "source": [
    "student_data[\"ayesha\"]=88\n",
    "print(student_data)"
   ]
  },
  {
   "cell_type": "markdown",
   "id": "132d5dc8-d3b7-4230-bf43-7c1da0910d23",
   "metadata": {},
   "source": [
    "Can I access a key using a value in a dictionary.\n"
   ]
  },
  {
   "cell_type": "code",
   "execution_count": null,
   "id": "0721757e-77bb-405a-ad28-fd3721483aee",
   "metadata": {},
   "outputs": [],
   "source": [
    "No, we cannot use a key using a value in dictionary."
   ]
  },
  {
   "cell_type": "markdown",
   "id": "804af0fb-2622-4568-b570-ebc3cd8ab9b6",
   "metadata": {},
   "source": [
    " Can I have duplicate values and keys in a dictionary? What happens if I wanted try to duplicate key in a dictionary?"
   ]
  },
  {
   "cell_type": "markdown",
   "id": "edd0bbdb-16e0-4a64-b840-f293de88f51a",
   "metadata": {},
   "source": [
    "duplicates values are accepted in a dictionary but duplicate keys are not accepted. "
   ]
  },
  {
   "cell_type": "code",
   "execution_count": 21,
   "id": "ddc81258-6728-43ae-9136-1e9fb5aca4eb",
   "metadata": {},
   "outputs": [
    {
     "data": {
      "text/plain": [
       "{'ayesha': 88, 'minnie': 85, 'miccky': 96, 1: 88}"
      ]
     },
     "execution_count": 21,
     "metadata": {},
     "output_type": "execute_result"
    }
   ],
   "source": [
    "student_data"
   ]
  },
  {
   "cell_type": "code",
   "execution_count": 23,
   "id": "7023af98-d567-4655-8e6d-f43ac0c5370c",
   "metadata": {},
   "outputs": [
    {
     "name": "stdout",
     "output_type": "stream",
     "text": [
      "{'ayesha': 88, 'minnie': 88, 'miccky': 96, 1: 88}\n"
     ]
    }
   ],
   "source": [
    "student_data[\"minnie\"]=88\n",
    "print(student_data)"
   ]
  },
  {
   "cell_type": "code",
   "execution_count": 25,
   "id": "67d5f9b5-8831-49e9-9bb3-72ffdfbdcfc6",
   "metadata": {},
   "outputs": [
    {
     "ename": "SyntaxError",
     "evalue": "cannot assign to literal here. Maybe you meant '==' instead of '='? (1279991126.py, line 1)",
     "output_type": "error",
     "traceback": [
      "\u001b[1;36m  Cell \u001b[1;32mIn[25], line 1\u001b[1;36m\u001b[0m\n\u001b[1;33m    key_value={\"marks\"=100, \"marks\"=200,\"cgpa\":2.5}\u001b[0m\n\u001b[1;37m               ^\u001b[0m\n\u001b[1;31mSyntaxError\u001b[0m\u001b[1;31m:\u001b[0m cannot assign to literal here. Maybe you meant '==' instead of '='?\n"
     ]
    }
   ],
   "source": [
    "key_value={\"marks\"=100, \"marks\"=200,\"cgpa\":2.5}\n",
    "print(key_value)"
   ]
  },
  {
   "cell_type": "markdown",
   "id": "20854c33-fa23-4b46-bc59-5cc21594cb2e",
   "metadata": {},
   "source": [
    "Print all multiples of 17 using range. Numbers should start from -34 and end below 400.\n"
   ]
  },
  {
   "cell_type": "code",
   "execution_count": 28,
   "id": "580010ed-9e41-46f4-8db9-ce55787f491a",
   "metadata": {},
   "outputs": [
    {
     "name": "stdout",
     "output_type": "stream",
     "text": [
      "[-34, -17, 0, 17, 34, 51, 68, 85, 102, 119, 136, 153, 170, 187, 204, 221, 238, 255, 272, 289, 306, 323, 340, 357, 374, 391]\n"
     ]
    }
   ],
   "source": [
    "print(list(range(-34,400,17)))"
   ]
  },
  {
   "cell_type": "code",
   "execution_count": null,
   "id": "96157b16-0110-4cfb-a9db-fe506ff75356",
   "metadata": {},
   "outputs": [],
   "source": []
  }
 ],
 "metadata": {
  "kernelspec": {
   "display_name": "Python [conda env:base] *",
   "language": "python",
   "name": "conda-base-py"
  },
  "language_info": {
   "codemirror_mode": {
    "name": "ipython",
    "version": 3
   },
   "file_extension": ".py",
   "mimetype": "text/x-python",
   "name": "python",
   "nbconvert_exporter": "python",
   "pygments_lexer": "ipython3",
   "version": "3.13.5"
  }
 },
 "nbformat": 4,
 "nbformat_minor": 5
}
