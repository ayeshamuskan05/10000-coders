{
 "cells": [
  {
   "cell_type": "markdown",
   "id": "458010fb-5ede-4dd8-9e2e-dc5072268b73",
   "metadata": {},
   "source": [
    " Create your own class which can implement all arthematic operations. Create 2 objects for it and call above implemented methods. Add model_num, made_in variables to obj1. Add color and discount to obj2. print model_num, made_in, color, discount to both the object\n"
   ]
  },
  {
   "cell_type": "code",
   "execution_count": 10,
   "id": "47b5cb03-c6e6-4c39-a37f-2822264d9dcd",
   "metadata": {},
   "outputs": [
    {
     "name": "stdout",
     "output_type": "stream",
     "text": [
      "9\n",
      "Maruthi 2025\n",
      "blue 50\n"
     ]
    }
   ],
   "source": [
    "class calculator():\n",
    "    def add(self,a,b):\n",
    "        print(a+b)\n",
    "    def sub(self,a,b):\n",
    "        print(a-b)\n",
    "    def mul (self,a,b):\n",
    "        print(a*b)\n",
    "    def div (self,a,b):\n",
    "        print(a/b)\n",
    "    def power(self,a,b):\n",
    "        print(a**b)\n",
    "    def describe(self):\n",
    "        print(self.model_num,self.made_in)\n",
    "    def describe1(self):\n",
    "        print(self.color,self.discount)\n",
    "\n",
    "obj1=calculator()\n",
    "obj2=calculator()\n",
    "obj1.add(5,4)\n",
    "\n",
    "\n",
    "obj1=calculator()\n",
    "obj1.model_num='Maruthi'\n",
    "obj1.made_in=\"2025\"\n",
    "obj1.describe()\n",
    "\n",
    "obj2=calculator()\n",
    "obj2.color=\"blue\"\n",
    "obj2.discount='50'\n",
    "obj2.describe1()"
   ]
  },
  {
   "cell_type": "code",
   "execution_count": 3,
   "id": "f1c98ecb-1249-4693-8cae-91bcdf72ad10",
   "metadata": {},
   "outputs": [
    {
     "name": "stdout",
     "output_type": "stream",
     "text": [
      "-1\n"
     ]
    }
   ],
   "source": [
    "obj1.sub(5,6)"
   ]
  },
  {
   "cell_type": "code",
   "execution_count": 4,
   "id": "8a23b5e2-d111-4fa7-8780-3e4fdeb39a4b",
   "metadata": {},
   "outputs": [
    {
     "name": "stdout",
     "output_type": "stream",
     "text": [
      "20\n"
     ]
    }
   ],
   "source": [
    "obj2.mul(4,5)"
   ]
  },
  {
   "cell_type": "code",
   "execution_count": 5,
   "id": "59d7c29d-6a54-4682-b488-8afa2295087d",
   "metadata": {},
   "outputs": [
    {
     "name": "stdout",
     "output_type": "stream",
     "text": [
      "1.1428571428571428\n"
     ]
    }
   ],
   "source": [
    "obj2.div(8,7)"
   ]
  },
  {
   "cell_type": "code",
   "execution_count": 6,
   "id": "eabf88ce-19f8-49c5-83d0-b5933b35cd59",
   "metadata": {},
   "outputs": [
    {
     "name": "stdout",
     "output_type": "stream",
     "text": [
      "4\n"
     ]
    }
   ],
   "source": [
    "obj1.power(2,2)"
   ]
  },
  {
   "cell_type": "code",
   "execution_count": null,
   "id": "2c97aff7-2576-4b69-9625-242864fdf8b7",
   "metadata": {},
   "outputs": [],
   "source": []
  },
  {
   "cell_type": "code",
   "execution_count": null,
   "id": "e2cd85c2-9549-42fc-86ef-236e993dc977",
   "metadata": {},
   "outputs": [],
   "source": []
  },
  {
   "cell_type": "code",
   "execution_count": null,
   "id": "7180c62b-ebd0-48c6-9e08-62555449d7e5",
   "metadata": {},
   "outputs": [],
   "source": []
  },
  {
   "cell_type": "code",
   "execution_count": null,
   "id": "ebf3b0b1-150d-40d6-af27-ddaebd8cc734",
   "metadata": {},
   "outputs": [],
   "source": []
  }
 ],
 "metadata": {
  "kernelspec": {
   "display_name": "Python [conda env:base] *",
   "language": "python",
   "name": "conda-base-py"
  },
  "language_info": {
   "codemirror_mode": {
    "name": "ipython",
    "version": 3
   },
   "file_extension": ".py",
   "mimetype": "text/x-python",
   "name": "python",
   "nbconvert_exporter": "python",
   "pygments_lexer": "ipython3",
   "version": "3.13.5"
  }
 },
 "nbformat": 4,
 "nbformat_minor": 5
}
