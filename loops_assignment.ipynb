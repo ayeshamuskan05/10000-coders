{
 "cells": [
  {
   "cell_type": "markdown",
   "id": "b997f29d-92b4-4366-bf5f-64f36e9e12de",
   "metadata": {},
   "source": [
    "Palindromic Bus Ticket\n",
    "In a small town, bus tickets have a unique pattern — if the ticket number reads the same forwards and backwards, it is considered a “lucky” ticket.\n",
    "Given a ticket number as a string, write a program to:\n",
    "- Reverse the number\n",
    "- Check if it is a palindrome\n",
    "If it is, print \"Lucky Ticket\", otherwise print \"Not Lucky\".\n",
    "Input Format\n",
    "A single line containing the ticket number as a string.\n",
    "Output Format\n",
    "Print \"Lucky Ticket\" if it is a palindrome, otherwise print \"Not Lucky\".\n",
    "Constraints\n",
    "1 ≤ length of ticket number ≤ 10\n",
    "Sample Test Cases\n",
    "Input:\n",
    "121\n",
    "Output:\n",
    "Lucky Ticket\n",
    "Input:\n",
    "123\n",
    "Output:\n",
    "Not Lucky\n"
   ]
  },
  {
   "cell_type": "code",
   "execution_count": 4,
   "id": "347eddbf-d02d-4269-90c6-7d86bba5914d",
   "metadata": {},
   "outputs": [
    {
     "name": "stdout",
     "output_type": "stream",
     "text": [
      "not lucky\n"
     ]
    }
   ],
   "source": [
    "ticket=\"120\"\n",
    "reverse_ticket=ticket[::-1]\n",
    "if ticket==reverse_ticket:\n",
    "    print(\"lucky ticket\")\n",
    "else:\n",
    "    print(\"not lucky\")"
   ]
  },
  {
   "cell_type": "markdown",
   "id": "d5004748-9758-4099-9c50-7bd6ca50f0fa",
   "metadata": {},
   "source": [
    "A wizard is teaching you a math spell to calculate the *magic sum* of square numbers.\n",
    "Given a number n, you must find the sum of the squares of all numbers from 1 to n.\n",
    "For example, if n = 3, the result is 1² + 2² + 3² = 14.\n",
    "Input Format\n",
    "A single integer n.\n",
    "Output Format\n",
    "The sum of squares from 1 to n.\n",
    "Constraints\n",
    "1 ≤ n ≤ 10^4\n",
    "Sample Test Cases\n",
    "Input:\n",
    "3\n",
    "Output:\n",
    "14\n",
    "Input:\n",
    "5\n",
    "Output:\n",
    "55\n"
   ]
  },
  {
   "cell_type": "code",
   "execution_count": 6,
   "id": "19352771-37b9-4cf3-a7f5-1999512aed21",
   "metadata": {},
   "outputs": [
    {
     "name": "stdin",
     "output_type": "stream",
     "text": [
      "enter the num: 3\n"
     ]
    },
    {
     "name": "stdout",
     "output_type": "stream",
     "text": [
      "14\n"
     ]
    }
   ],
   "source": [
    "n=int(input(\"enter the num:\"))\n",
    "magic_sum=0\n",
    "for i in range(1,n+1):\n",
    "    magic_sum+=i**2\n",
    "print(magic_sum)"
   ]
  },
  {
   "cell_type": "markdown",
   "id": "80941ca6-e968-405c-a641-8b544d7641ff",
   "metadata": {},
   "source": [
    "Treasure Hunt Guessing Game\n",
    "You are on a treasure island, and the treasure is buried at a specific location marked by a secret number between 1 and 100.\n",
    "Write a program that keeps asking the player to guess the number until they find it.\n",
    "After each wrong guess, display \"Try Again!\", and when they guess correctly, display \"Treasure Found!\".\n",
    "Input Format\n",
    "Multiple integer guesses entered one per line until the correct number is guessed.\n",
    "Output Format\n",
    "\"Try Again!\" for each wrong guess, and \"Treasure Found!\" when correct.\n",
    "Constraints\n",
    "Secret number is between 1 and 100.\n",
    "Sample Test Cases\n",
    "Input:\n",
    "50\n",
    "30\n",
    "42\n",
    "Output:\n",
    "Try Again!\n",
    "Try Again!\n",
    "Treasure Found!"
   ]
  },
  {
   "cell_type": "code",
   "execution_count": 9,
   "id": "2884790f-b842-4414-a0c1-555624d18243",
   "metadata": {},
   "outputs": [
    {
     "name": "stdin",
     "output_type": "stream",
     "text": [
      "guess a number: 5\n"
     ]
    },
    {
     "name": "stdout",
     "output_type": "stream",
     "text": [
      "try again\n"
     ]
    },
    {
     "name": "stdin",
     "output_type": "stream",
     "text": [
      "guess a number: 20\n"
     ]
    },
    {
     "name": "stdout",
     "output_type": "stream",
     "text": [
      "try again\n"
     ]
    },
    {
     "name": "stdin",
     "output_type": "stream",
     "text": [
      "guess a number: 506\n"
     ]
    },
    {
     "name": "stdout",
     "output_type": "stream",
     "text": [
      "Treasure found!!!!\n"
     ]
    }
   ],
   "source": [
    "secret_num=506\n",
    "while True:\n",
    "    guess=int(input(\"guess a number:\"))\n",
    "    if guess== secret_num:\n",
    "        print(\"Treasure found!!!!\")\n",
    "        break\n",
    "    else:\n",
    "        print(\"try again\")"
   ]
  },
  {
   "cell_type": "markdown",
   "id": "57617afe-4fc5-40ac-8646-14c9ed63f720",
   "metadata": {},
   "source": [
    "Perfect Square Festival\n",
    "In a city fair, there is a game where you win a prize if your chosen number is a *perfect square*.\n",
    "Write a program to display all perfect square numbers between 1 and 500 so players can see which numbers will win.\n",
    "Input Format\n",
    "No input required.\n",
    "Output Format\n",
    "All perfect squares between 1 and 500 separated by spaces.\n",
    "Constraints\n",
    "Numbers between 1 and 500.\n",
    "Sample Test Cases\n",
    "Output:\n",
    "1 4 9 16 25 36 49 64 81 100 ... 484\n"
   ]
  },
  {
   "cell_type": "code",
   "execution_count": 3,
   "id": "732616c8-bc76-4802-a2cc-3bd46d06ca29",
   "metadata": {},
   "outputs": [
    {
     "name": "stdout",
     "output_type": "stream",
     "text": [
      "1\n",
      "4\n",
      "9\n",
      "16\n",
      "25\n",
      "36\n",
      "49\n",
      "64\n",
      "81\n",
      "100\n",
      "121\n",
      "144\n",
      "169\n",
      "196\n",
      "225\n",
      "256\n",
      "289\n",
      "324\n",
      "361\n",
      "400\n",
      "441\n",
      "484\n"
     ]
    }
   ],
   "source": [
    "i=1\n",
    "while i*i<=500:\n",
    "    print(i*i,)\n",
    "    i+=1"
   ]
  },
  {
   "cell_type": "markdown",
   "id": "f6c6a22b-6175-4ea8-a148-5b65ce54359f",
   "metadata": {},
   "source": [
    "Cube Challenge\n",
    "In a video game, your character collects cubes of different sizes.\n",
    "Given a number n, print the cube of every number from 1 to n so the player knows the sizes of cubes they can collect.\n",
    "Input Format\n",
    "A single integer n.\n",
    "Output Format\n",
    "The cubes of numbers from 1 to n, each on a new line.\n",
    "Constraints\n",
    "1 ≤ n ≤ 1000\n",
    "Sample Test Cases\n",
    "Input:\n",
    "3\n",
    "Output:\n",
    "1\n",
    "8\n",
    "27\n",
    "Input:\n",
    "5\n",
    "Output:\n",
    "1\n",
    "8\n",
    "27\n",
    "64\n",
    "125\n"
   ]
  },
  {
   "cell_type": "code",
   "execution_count": 1,
   "id": "0797c9f9-d4d8-4eea-aa3c-7a8bf55c901a",
   "metadata": {},
   "outputs": [
    {
     "name": "stdin",
     "output_type": "stream",
     "text": [
      "enter a num: 5\n"
     ]
    },
    {
     "name": "stdout",
     "output_type": "stream",
     "text": [
      "1\n",
      "8\n",
      "27\n",
      "64\n",
      "125\n"
     ]
    }
   ],
   "source": [
    "n=int(input(\"enter a num:\"))\n",
    "for i in range(1,n+1):\n",
    "    print(i**3)"
   ]
  },
  {
   "cell_type": "code",
   "execution_count": null,
   "id": "c532853c-0e2d-4f87-b44e-8485ecb371c0",
   "metadata": {},
   "outputs": [],
   "source": []
  }
 ],
 "metadata": {
  "kernelspec": {
   "display_name": "Python [conda env:base] *",
   "language": "python",
   "name": "conda-base-py"
  },
  "language_info": {
   "codemirror_mode": {
    "name": "ipython",
    "version": 3
   },
   "file_extension": ".py",
   "mimetype": "text/x-python",
   "name": "python",
   "nbconvert_exporter": "python",
   "pygments_lexer": "ipython3",
   "version": "3.13.5"
  }
 },
 "nbformat": 4,
 "nbformat_minor": 5
}
