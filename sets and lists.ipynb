{
 "cells": [
  {
   "cell_type": "markdown",
   "id": "ef9b87a0-a1ff-4e06-9e30-d2c9ce3aff4b",
   "metadata": {},
   "source": [
    "List Inbuilt Functions Examples"
   ]
  },
  {
   "cell_type": "code",
   "execution_count": 1,
   "id": "6c1f3205-2784-4c60-8f84-80999536c700",
   "metadata": {},
   "outputs": [],
   "source": [
    "numbers = [10, 20, 30, 40, 20, 10]"
   ]
  },
  {
   "cell_type": "markdown",
   "id": "030ccece-1fc4-4a4b-ab56-031311fc9994",
   "metadata": {},
   "source": [
    "length"
   ]
  },
  {
   "cell_type": "code",
   "execution_count": 2,
   "id": "b8001fb4-da91-450d-b00b-d064d496f0b0",
   "metadata": {},
   "outputs": [
    {
     "name": "stdout",
     "output_type": "stream",
     "text": [
      "6\n"
     ]
    }
   ],
   "source": [
    "print(len(numbers)) "
   ]
  },
  {
   "cell_type": "markdown",
   "id": "68543949-8519-4d0f-a781-52100eb97f8c",
   "metadata": {},
   "source": [
    "Max"
   ]
  },
  {
   "cell_type": "code",
   "execution_count": 3,
   "id": "315aa9fb-b7e4-4585-aaa8-d92a760cb248",
   "metadata": {},
   "outputs": [
    {
     "name": "stdout",
     "output_type": "stream",
     "text": [
      "40\n"
     ]
    }
   ],
   "source": [
    "print(max(numbers))"
   ]
  },
  {
   "cell_type": "markdown",
   "id": "df8ac598-6453-47a7-8557-23398b523ce9",
   "metadata": {},
   "source": [
    "Min"
   ]
  },
  {
   "cell_type": "code",
   "execution_count": 4,
   "id": "c4eeeaf2-5f38-4b6d-8bf1-e4bdd2fa3d61",
   "metadata": {},
   "outputs": [
    {
     "name": "stdout",
     "output_type": "stream",
     "text": [
      "10\n"
     ]
    }
   ],
   "source": [
    "print(min(numbers))"
   ]
  },
  {
   "cell_type": "markdown",
   "id": "634eadcd-499d-4916-9077-06f69b0c124b",
   "metadata": {},
   "source": [
    "Sum"
   ]
  },
  {
   "cell_type": "code",
   "execution_count": 5,
   "id": "0eaaa755-af0f-4eae-a141-bce80ff8853e",
   "metadata": {},
   "outputs": [
    {
     "name": "stdout",
     "output_type": "stream",
     "text": [
      "130\n"
     ]
    }
   ],
   "source": [
    "print(sum(numbers)) "
   ]
  },
  {
   "cell_type": "markdown",
   "id": "c22187be-876a-43f5-8b75-603109a74900",
   "metadata": {},
   "source": [
    "Sorting"
   ]
  },
  {
   "cell_type": "code",
   "execution_count": 6,
   "id": "7530033c-ac0e-4de9-8337-8667de1b0440",
   "metadata": {},
   "outputs": [
    {
     "name": "stdout",
     "output_type": "stream",
     "text": [
      "[10, 10, 20, 20, 30, 40]\n",
      "[40, 30, 20, 20, 10, 10]\n"
     ]
    }
   ],
   "source": [
    "print(sorted(numbers))       \n",
    "print(sorted(numbers, reverse=True)) "
   ]
  },
  {
   "cell_type": "markdown",
   "id": "224dd7b7-df02-447a-88bd-fb64d5db9ad0",
   "metadata": {},
   "source": [
    "Count"
   ]
  },
  {
   "cell_type": "code",
   "execution_count": 7,
   "id": "a241a506-6d56-445a-bb30-7e4b038323da",
   "metadata": {},
   "outputs": [
    {
     "name": "stdout",
     "output_type": "stream",
     "text": [
      "2\n"
     ]
    }
   ],
   "source": [
    "print(numbers.count(20))"
   ]
  },
  {
   "cell_type": "markdown",
   "id": "872f9976-8c46-410c-9822-6fc672c79eb1",
   "metadata": {},
   "source": [
    "index"
   ]
  },
  {
   "cell_type": "code",
   "execution_count": 8,
   "id": "5b3213a9-9c50-46aa-9bdd-db06cb09319d",
   "metadata": {},
   "outputs": [
    {
     "name": "stdout",
     "output_type": "stream",
     "text": [
      "2\n"
     ]
    }
   ],
   "source": [
    "print(numbers.index(30))"
   ]
  },
  {
   "cell_type": "markdown",
   "id": "16d7ba5f-4d6b-4541-82c0-e3811deedd04",
   "metadata": {},
   "source": [
    "append"
   ]
  },
  {
   "cell_type": "code",
   "execution_count": 9,
   "id": "358bfb7b-ac0b-4e64-991c-4441d004974b",
   "metadata": {},
   "outputs": [
    {
     "name": "stdout",
     "output_type": "stream",
     "text": [
      "[10, 20, 30, 40, 20, 10, 50]\n"
     ]
    }
   ],
   "source": [
    "numbers.append(50)\n",
    "print(numbers)"
   ]
  },
  {
   "cell_type": "markdown",
   "id": "134d72d2-d494-479e-bf9d-6e2f83cd8bae",
   "metadata": {},
   "source": [
    "insert"
   ]
  },
  {
   "cell_type": "code",
   "execution_count": 10,
   "id": "da7610cb-d9df-47ca-91d0-4a401f8aa9c7",
   "metadata": {},
   "outputs": [
    {
     "name": "stdout",
     "output_type": "stream",
     "text": [
      "[10, 20, 25, 30, 40, 20, 10, 50]\n"
     ]
    }
   ],
   "source": [
    "numbers.insert(2, 25)\n",
    "print(numbers)"
   ]
  },
  {
   "cell_type": "markdown",
   "id": "ae2a1621-cd5f-4976-817a-326768a4002b",
   "metadata": {},
   "source": [
    "remove"
   ]
  },
  {
   "cell_type": "code",
   "execution_count": 11,
   "id": "94b764f4-fdde-47d4-902f-30c457c79319",
   "metadata": {},
   "outputs": [
    {
     "name": "stdout",
     "output_type": "stream",
     "text": [
      "[10, 25, 30, 40, 20, 10, 50]\n"
     ]
    }
   ],
   "source": [
    "numbers.remove(20)\n",
    "print(numbers)"
   ]
  },
  {
   "cell_type": "markdown",
   "id": "d8dc757f-ab71-4a5c-93fa-92d74842fb7f",
   "metadata": {},
   "source": [
    "pop"
   ]
  },
  {
   "cell_type": "code",
   "execution_count": 12,
   "id": "3914b7bd-7747-4253-8483-8689d42aad98",
   "metadata": {},
   "outputs": [
    {
     "name": "stdout",
     "output_type": "stream",
     "text": [
      "[10, 25, 30, 40, 20, 10]\n"
     ]
    }
   ],
   "source": [
    "numbers.pop()\n",
    "print(numbers)"
   ]
  },
  {
   "cell_type": "markdown",
   "id": "24318685-d4f8-4e10-8eb0-e558385c38f0",
   "metadata": {},
   "source": [
    "Set Inbuilt Functions Examples"
   ]
  },
  {
   "cell_type": "code",
   "execution_count": 13,
   "id": "ab7ff263-65b5-4f08-ba38-6f309a739ebb",
   "metadata": {},
   "outputs": [],
   "source": [
    "a = {1, 2, 3, 4}\n",
    "b = {3, 4, 5, 6}"
   ]
  },
  {
   "cell_type": "markdown",
   "id": "1a631cc8-55be-4a6e-944a-5bcf876bd0aa",
   "metadata": {},
   "source": [
    "length"
   ]
  },
  {
   "cell_type": "code",
   "execution_count": 14,
   "id": "b3490804-e6bd-4785-aeba-56474fb17aaa",
   "metadata": {},
   "outputs": [
    {
     "name": "stdout",
     "output_type": "stream",
     "text": [
      "4\n"
     ]
    }
   ],
   "source": [
    "print(len(a))"
   ]
  },
  {
   "cell_type": "markdown",
   "id": "39fc1c93-e748-4d7a-8e83-8461ae3feb4b",
   "metadata": {},
   "source": [
    "Max & Min"
   ]
  },
  {
   "cell_type": "code",
   "execution_count": 15,
   "id": "516fb39e-5626-4a66-a483-00f9db08707a",
   "metadata": {},
   "outputs": [
    {
     "name": "stdout",
     "output_type": "stream",
     "text": [
      "4\n",
      "1\n"
     ]
    }
   ],
   "source": [
    "print(max(a))   \n",
    "print(min(a))"
   ]
  },
  {
   "cell_type": "markdown",
   "id": "ab56631c-48e8-487e-af3b-3ac31e2fa6cf",
   "metadata": {},
   "source": [
    "Sum"
   ]
  },
  {
   "cell_type": "code",
   "execution_count": 16,
   "id": "ec73b67d-3fa0-4178-803c-9553598be019",
   "metadata": {},
   "outputs": [
    {
     "name": "stdout",
     "output_type": "stream",
     "text": [
      "10\n"
     ]
    }
   ],
   "source": [
    "print(sum(a))"
   ]
  },
  {
   "cell_type": "markdown",
   "id": "b6eb2f30-fed7-4598-9cec-ffce798750d1",
   "metadata": {},
   "source": [
    "add"
   ]
  },
  {
   "cell_type": "code",
   "execution_count": 17,
   "id": "bc13d516-5215-4bc8-b811-19a734b2efdf",
   "metadata": {},
   "outputs": [
    {
     "name": "stdout",
     "output_type": "stream",
     "text": [
      "{1, 2, 3, 4, 10}\n"
     ]
    }
   ],
   "source": [
    "a.add(10)\n",
    "print(a)"
   ]
  },
  {
   "cell_type": "markdown",
   "id": "9004fb5d-931b-49a9-90e0-4bfebad38abf",
   "metadata": {},
   "source": [
    "remove"
   ]
  },
  {
   "cell_type": "code",
   "execution_count": 18,
   "id": "a7dfbcb3-e080-46c0-a082-6709a6735187",
   "metadata": {},
   "outputs": [
    {
     "name": "stdout",
     "output_type": "stream",
     "text": [
      "{1, 3, 4, 10}\n"
     ]
    }
   ],
   "source": [
    "a.remove(2)\n",
    "print(a)"
   ]
  },
  {
   "cell_type": "markdown",
   "id": "05587956-a0b9-4a0a-8648-9f439e9846ac",
   "metadata": {},
   "source": [
    "discard"
   ]
  },
  {
   "cell_type": "code",
   "execution_count": 19,
   "id": "4d5dce77-d6eb-4e13-bed9-4f1189474f66",
   "metadata": {},
   "outputs": [
    {
     "name": "stdout",
     "output_type": "stream",
     "text": [
      "{1, 3, 4, 10}\n"
     ]
    }
   ],
   "source": [
    "a.discard(100)  \n",
    "print(a)"
   ]
  },
  {
   "cell_type": "markdown",
   "id": "20912405-0ecc-4d55-99cd-e3b110482216",
   "metadata": {},
   "source": [
    "pop"
   ]
  },
  {
   "cell_type": "code",
   "execution_count": 20,
   "id": "b3e579a9-836f-4c59-8e1b-276c1e703357",
   "metadata": {},
   "outputs": [
    {
     "name": "stdout",
     "output_type": "stream",
     "text": [
      "1\n",
      "{3, 4, 10}\n"
     ]
    }
   ],
   "source": [
    "print(a.pop())  \n",
    "print(a)"
   ]
  },
  {
   "cell_type": "markdown",
   "id": "4a88cfdf-ecac-4486-a91e-ef9c21e57b17",
   "metadata": {},
   "source": [
    "union"
   ]
  },
  {
   "cell_type": "code",
   "execution_count": 21,
   "id": "d3a88c44-1b2b-454c-87c7-ddbefa9deb2c",
   "metadata": {},
   "outputs": [
    {
     "name": "stdout",
     "output_type": "stream",
     "text": [
      "{3, 4, 5, 6, 10}\n"
     ]
    }
   ],
   "source": [
    "print(a.union(b))"
   ]
  },
  {
   "cell_type": "markdown",
   "id": "eb04a075-e95d-4111-811d-dd8c047ae06b",
   "metadata": {},
   "source": [
    "intersection"
   ]
  },
  {
   "cell_type": "code",
   "execution_count": 22,
   "id": "cc5cd783-6557-4b58-b087-593b884310fc",
   "metadata": {},
   "outputs": [
    {
     "name": "stdout",
     "output_type": "stream",
     "text": [
      "{3, 4}\n"
     ]
    }
   ],
   "source": [
    "print(a.intersection(b))"
   ]
  },
  {
   "cell_type": "code",
   "execution_count": null,
   "id": "5d89dc7b-e1eb-4b61-b807-98f893a9a96e",
   "metadata": {},
   "outputs": [],
   "source": []
  }
 ],
 "metadata": {
  "kernelspec": {
   "display_name": "Python [conda env:base] *",
   "language": "python",
   "name": "conda-base-py"
  },
  "language_info": {
   "codemirror_mode": {
    "name": "ipython",
    "version": 3
   },
   "file_extension": ".py",
   "mimetype": "text/x-python",
   "name": "python",
   "nbconvert_exporter": "python",
   "pygments_lexer": "ipython3",
   "version": "3.13.5"
  }
 },
 "nbformat": 4,
 "nbformat_minor": 5
}
