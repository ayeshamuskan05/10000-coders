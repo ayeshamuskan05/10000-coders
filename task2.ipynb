{
 "cells": [
  {
   "cell_type": "markdown",
   "id": "b4d3d760-b3b4-446f-be57-f401dcf3c9e9",
   "metadata": {},
   "source": [
    "1. Given the total seconds, compute and print equivalent hours, minutes, and seconds using arithmetic operations.\n"
   ]
  },
  {
   "cell_type": "code",
   "execution_count": 2,
   "id": "7a521e6c-7434-47ed-a54c-7c4d78d45a03",
   "metadata": {},
   "outputs": [
    {
     "name": "stdin",
     "output_type": "stream",
     "text": [
      "enter a number: 500\n"
     ]
    },
    {
     "name": "stdout",
     "output_type": "stream",
     "text": [
      "500 seconds = 0 hours, 8 minutes, 20 seconds\n"
     ]
    }
   ],
   "source": [
    "total_sec=int(input(\"enter a number:\"))\n",
    "hours= total_sec//3600\n",
    "remaining_seconds=total_sec % 3600\n",
    "minutes= total_sec //60\n",
    "seconds=remaining_seconds % 60\n",
    "print(f\"{total_sec} seconds = {hours} hours, {minutes} minutes, {seconds} seconds\")"
   ]
  },
  {
   "cell_type": "markdown",
   "id": "96f69d3a-cd2e-46c4-835c-f1a4eaa61b9c",
   "metadata": {},
   "source": [
    "2. Assign the price and quantity of two products. Calculate the total cost including 18% tax. Print a detailed bill.\n"
   ]
  },
  {
   "cell_type": "code",
   "execution_count": 3,
   "id": "bee9fab5-cef5-4cea-88ef-7d4aeb296732",
   "metadata": {},
   "outputs": [
    {
     "name": "stdin",
     "output_type": "stream",
     "text": [
      "Price of product 1:  5\n",
      "Quantity of product 1:  5\n",
      "Price of product 2:  9\n",
      "Quantity of product 2:  6\n"
     ]
    },
    {
     "name": "stdout",
     "output_type": "stream",
     "text": [
      "\n",
      "--- Bill ---\n",
      "Product 1: 5 x 5.0 = 25.0\n",
      "Product 2: 6 x 9.0 = 54.0\n",
      "Subtotal: 79.0\n",
      "Tax (18%): 14.219999999999999\n",
      "Total: 93.22\n"
     ]
    }
   ],
   "source": [
    "\n",
    "p1 = float(input(\"Price of product 1: \"))\n",
    "q1 = int(input(\"Quantity of product 1: \"))\n",
    "\n",
    "p2 = float(input(\"Price of product 2: \"))\n",
    "q2 = int(input(\"Quantity of product 2: \"))\n",
    "\n",
    "\n",
    "total1 = p1 * q1\n",
    "total2 = p2 * q2\n",
    "subtotal = total1 + total2\n",
    "tax = subtotal * 0.18\n",
    "total = subtotal + tax\n",
    "\n",
    "\n",
    "print(\"\\n--- Bill ---\")\n",
    "print(\"Product 1:\", q1, \"x\", p1, \"=\", total1)\n",
    "print(\"Product 2:\", q2, \"x\", p2, \"=\", total2)\n",
    "print(\"Subtotal:\", subtotal)\n",
    "print(\"Tax (18%):\", tax)\n",
    "print(\"Total:\", total)\n"
   ]
  },
  {
   "cell_type": "markdown",
   "id": "140fafff-02d1-4ee5-ac0b-cb87208652ea",
   "metadata": {},
   "source": [
    "3. Compute the perimeter and area of a circle given a radius. Use the value of π from the math module.\n"
   ]
  },
  {
   "cell_type": "code",
   "execution_count": 4,
   "id": "06ed6119-38c6-44b9-83e7-c0c3810d657a",
   "metadata": {},
   "outputs": [
    {
     "name": "stdin",
     "output_type": "stream",
     "text": [
      "enter the radius of the circle: 5\n"
     ]
    },
    {
     "name": "stdout",
     "output_type": "stream",
     "text": [
      "Perimeter (circumference): 31.41592653589793\n",
      "Area: 78.53981633974483\n"
     ]
    }
   ],
   "source": [
    "import math\n",
    "radius= float(input(\"enter the radius of the circle:\"))\n",
    "perimeter = 2 * math.pi * radius\n",
    "area = math.pi * radius ** 2\n",
    "\n",
    "print(f\"Perimeter (circumference): {perimeter}\")\n",
    "print(f\"Area: {area}\")"
   ]
  },
  {
   "cell_type": "markdown",
   "id": "8e93f6a5-674c-4145-af38-91a8cce5f37f",
   "metadata": {},
   "source": [
    "4. Given a temperature in Celsius, convert it to Fahrenheit using the formula and print both values.\n",
    "   (F = C × 9/5 + 32)\n",
    "\n"
   ]
  },
  {
   "cell_type": "code",
   "execution_count": 5,
   "id": "be620f81-6f8c-411e-a934-1985b8532247",
   "metadata": {},
   "outputs": [
    {
     "name": "stdin",
     "output_type": "stream",
     "text": [
      "Enter temperature in Celsius:  97\n"
     ]
    },
    {
     "name": "stdout",
     "output_type": "stream",
     "text": [
      "\n",
      "--- Temperature ---\n",
      "Celsius: 97.0\n",
      "Fahrenheit: 206.6\n"
     ]
    }
   ],
   "source": [
    "\n",
    "celsius = float(input(\"Enter temperature in Celsius: \"))\n",
    "\n",
    "fahrenheit = celsius * 9/5 + 32\n",
    "\n",
    "print(\"\\n--- Temperature ---\")\n",
    "print(\"Celsius:\", celsius)\n",
    "print(\"Fahrenheit:\", fahrenheit)\n"
   ]
  },
  {
   "cell_type": "markdown",
   "id": "643c7741-bed1-4ede-b4db-08796f0d9aa0",
   "metadata": {},
   "source": [
    "5. What is a compiled language? What is an interpreted language?\n",
    "   Explain pros and cons of each. How hybrid languages bring in advantages of both."
   ]
  },
  {
   "cell_type": "markdown",
   "id": "1fa10003-80af-4612-96c0-79f73fad9823",
   "metadata": {},
   "source": [
    " Compiled Language\n",
    "Code is translated into machine code before execution using a compiler.\n",
    "\n",
    "Runs fast because it directly executes the compiled binary.\n",
    "\n",
    "Less flexible; requires recompilation after changes.\n",
    "\n",
    "Examples: C, C++, Go\n",
    "\n",
    "📄 Interpreted Language\n",
    "Code is executed line by line by an interpreter at runtime.\n",
    "\n",
    "Easy to test, debug, and modify — no compilation step.\n",
    "\n",
    "Slower than compiled because it’s interpreted every time.\n",
    "\n",
    "Examples: Python, JavaScript, Ruby\n",
    "\n",
    "📄 Hybrid Language\n",
    "Code is first compiled to intermediate bytecode, then interpreted or JIT-compiled.\n",
    "\n",
    "Balances speed and flexibility; faster than pure interpretation.\n",
    "\n",
    "Portable across platforms with the right runtime (e.g., JVM).\n",
    "\n",
    "Examples: Java, C#, Python (.pyc)"
   ]
  },
  {
   "cell_type": "markdown",
   "id": "e855b152-635f-4a59-926e-6e5e27565cd5",
   "metadata": {},
   "source": [
    "6. Draw the diagram of how a Python program is executed.\n"
   ]
  },
  {
   "cell_type": "markdown",
   "id": "fc441d95-4def-45e5-a9d7-29bdadea61f7",
   "metadata": {},
   "source": [
    "    Python Source Code (.py)\n",
    "              |\n",
    "              v\n",
    "      Python Compiler\n",
    "      (compiles to bytecode)\n",
    "              |\n",
    "              v\n",
    "       Bytecode (.pyc file)\n",
    "              |\n",
    "              v\n",
    "  Python Virtual Machine (PVM)\n",
    "  (executes bytecode line by line)\n",
    "\n"
   ]
  }
 ],
 "metadata": {
  "kernelspec": {
   "display_name": "Python [conda env:base] *",
   "language": "python",
   "name": "conda-base-py"
  },
  "language_info": {
   "codemirror_mode": {
    "name": "ipython",
    "version": 3
   },
   "file_extension": ".py",
   "mimetype": "text/x-python",
   "name": "python",
   "nbconvert_exporter": "python",
   "pygments_lexer": "ipython3",
   "version": "3.13.5"
  }
 },
 "nbformat": 4,
 "nbformat_minor": 5
}
