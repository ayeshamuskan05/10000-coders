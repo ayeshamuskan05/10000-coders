{
 "cells": [
  {
   "cell_type": "markdown",
   "id": "e047a2ef-8b81-4ffb-915b-65425a44daba",
   "metadata": {},
   "source": [
    "1. What are variables and why are they called variables? Assign two numbers to variables `a` and `b`, and print their sum."
   ]
  },
  {
   "cell_type": "markdown",
   "id": "5b44e285-48d8-4fb9-9299-aa041ac3d897",
   "metadata": {},
   "source": [
    "Variables are the containers which stores the values and because of their changing nature they are called variables"
   ]
  },
  {
   "cell_type": "code",
   "execution_count": 1,
   "id": "2b87626f-a684-4ccd-8c9c-0162ebce17ba",
   "metadata": {},
   "outputs": [
    {
     "data": {
      "text/plain": [
       "15"
      ]
     },
     "execution_count": 1,
     "metadata": {},
     "output_type": "execute_result"
    }
   ],
   "source": [
    "a=5\n",
    "b=10\n",
    "c=a+b\n",
    "c"
   ]
  },
  {
   "cell_type": "markdown",
   "id": "24ab709c-e468-435e-9e9a-167a3a02b1cf",
   "metadata": {},
   "source": [
    "2. Write a Python program to subtract two numbers and print the result."
   ]
  },
  {
   "cell_type": "markdown",
   "id": "e4bd9f7e-6201-4477-84ed-5d9a5f1c63d0",
   "metadata": {},
   "source": [
    "a=10\n",
    "b=20\n",
    "c=b-a\n",
    "c"
   ]
  },
  {
   "cell_type": "markdown",
   "id": "e2a9de0c-3f0f-4b02-8d87-1bd6ed5d37e3",
   "metadata": {},
   "source": [
    "3. Multiply two variables and store the result in a third variable. Print all three."
   ]
  },
  {
   "cell_type": "code",
   "execution_count": 3,
   "id": "00731c63-3047-4268-a947-924b098bb2da",
   "metadata": {},
   "outputs": [
    {
     "name": "stdout",
     "output_type": "stream",
     "text": [
      "2 3 6\n"
     ]
    }
   ],
   "source": [
    "a=2\n",
    "b=3\n",
    "c=a*b\n",
    "print(a,b,c)"
   ]
  },
  {
   "cell_type": "markdown",
   "id": "ac551a7f-8b67-4871-9c82-93db6c7fefc3",
   "metadata": {},
   "source": [
    "4. Divide 10 by 3 and print the result with and without decimals."
   ]
  },
  {
   "cell_type": "code",
   "execution_count": 1,
   "id": "e7f6a718-7fcf-4ddd-8d19-63b3997b27cf",
   "metadata": {},
   "outputs": [],
   "source": [
    "a=10\n",
    "b=3\n",
    "c=a/b\n",
    "d=a//b"
   ]
  },
  {
   "cell_type": "code",
   "execution_count": 3,
   "id": "28cffa5b-b30d-4778-b96b-4a66994b14ed",
   "metadata": {},
   "outputs": [
    {
     "name": "stdout",
     "output_type": "stream",
     "text": [
      "3.3333333333333335 3\n"
     ]
    }
   ],
   "source": [
    "a=10\n",
    "b=3\n",
    "c=a/b\n",
    "print(c,d)"
   ]
  },
  {
   "cell_type": "markdown",
   "id": "0009441f-1e0b-4fb1-a6bc-3f37d638771a",
   "metadata": {},
   "source": [
    "5. Use floor division `//` to divide 17 by 4. Print the output."
   ]
  },
  {
   "cell_type": "code",
   "execution_count": 8,
   "id": "cb56348d-728a-4699-b599-a33af42676bd",
   "metadata": {},
   "outputs": [
    {
     "data": {
      "text/plain": [
       "4"
      ]
     },
     "execution_count": 8,
     "metadata": {},
     "output_type": "execute_result"
    }
   ],
   "source": [
    "a=17\n",
    "b=4\n",
    "c=a//b\n",
    "c\n"
   ]
  },
  {
   "cell_type": "markdown",
   "id": "56e6f7b4-8680-400f-a4c0-78853b531da9",
   "metadata": {},
   "source": [
    "6. Use the modulo operator `%` to check the remainder when 25 is divided by 6."
   ]
  },
  {
   "cell_type": "code",
   "execution_count": 9,
   "id": "4e3fe117-ee91-4a07-90c2-d1e49d827f18",
   "metadata": {},
   "outputs": [
    {
     "data": {
      "text/plain": [
       "1"
      ]
     },
     "execution_count": 9,
     "metadata": {},
     "output_type": "execute_result"
    }
   ],
   "source": [
    "a=25\n",
    "b=6\n",
    "c=25%6\n",
    "c"
   ]
  },
  {
   "cell_type": "markdown",
   "id": "628ab373-3520-45d1-86f5-b9ea0669b947",
   "metadata": {},
   "source": [
    "7. Calculate and print the square of a number stored in a variable."
   ]
  },
  {
   "cell_type": "code",
   "execution_count": 10,
   "id": "2bd4cb9d-6976-46b3-bb7f-2bc3f09e1b7e",
   "metadata": {},
   "outputs": [
    {
     "data": {
      "text/plain": [
       "25"
      ]
     },
     "execution_count": 10,
     "metadata": {},
     "output_type": "execute_result"
    }
   ],
   "source": [
    "a=5\n",
    "square= a ** 2\n",
    "square"
   ]
  },
  {
   "cell_type": "markdown",
   "id": "f1551699-1656-4fbf-a113-949c64b23185",
   "metadata": {},
   "source": [
    "8. Assign values to three variables `x`, `y`, `z` and compute the average."
   ]
  },
  {
   "cell_type": "code",
   "execution_count": 13,
   "id": "df011f3c-a2cf-4c14-bde0-f0ee4c3ecd9a",
   "metadata": {},
   "outputs": [
    {
     "data": {
      "text/plain": [
       "5"
      ]
     },
     "execution_count": 13,
     "metadata": {},
     "output_type": "execute_result"
    }
   ],
   "source": [
    "x,y,z = 1,5,10\n",
    "avg=(x+y+z)/3\n",
    "int(avg)"
   ]
  },
  {
   "cell_type": "markdown",
   "id": "0343782b-a806-41c3-9ce7-a3695089117a",
   "metadata": {},
   "source": [
    "9. Take a number and find its cube using the `**` operator."
   ]
  },
  {
   "cell_type": "code",
   "execution_count": 14,
   "id": "eed0341e-031c-4a4e-9cba-d4eb037b51a3",
   "metadata": {},
   "outputs": [
    {
     "data": {
      "text/plain": [
       "1000"
      ]
     },
     "execution_count": 14,
     "metadata": {},
     "output_type": "execute_result"
    }
   ],
   "source": [
    "a=10\n",
    "cube=a**3\n",
    "cube"
   ]
  },
  {
   "cell_type": "markdown",
   "id": "3b37bb7f-5349-4a2e-a2fb-231ef6ce8061",
   "metadata": {},
   "source": [
    "10. Create two variables `length` and `width`. Calculate and print area of a rectangle."
   ]
  },
  {
   "cell_type": "code",
   "execution_count": 15,
   "id": "a385fb3f-6edb-41a4-98a1-2f75f946550b",
   "metadata": {},
   "outputs": [
    {
     "data": {
      "text/plain": [
       "32"
      ]
     },
     "execution_count": 15,
     "metadata": {},
     "output_type": "execute_result"
    }
   ],
   "source": [
    "length=8\n",
    "width=4\n",
    "area= length* width\n",
    "area\n"
   ]
  },
  {
   "cell_type": "markdown",
   "id": "a6d4cb3c-16b8-4d0f-9520-a091525ad68b",
   "metadata": {},
   "source": [
    "11. Assign a variable `total_marks = 450` and `obtained_marks = 375`. Find percentage."
   ]
  },
  {
   "cell_type": "code",
   "execution_count": 17,
   "id": "97ca1ae7-b18c-49a8-b2e8-2d03a3cc771f",
   "metadata": {},
   "outputs": [
    {
     "data": {
      "text/plain": [
       "83.33333333333334"
      ]
     },
     "execution_count": 17,
     "metadata": {},
     "output_type": "execute_result"
    }
   ],
   "source": [
    "total_marks=450\n",
    "obtained_marks=375\n",
    "per=(obtained_marks /total_marks)* 100\n",
    "per"
   ]
  },
  {
   "cell_type": "markdown",
   "id": "afbdc72e-287c-4cd4-b7ed-fabd852b8946",
   "metadata": {},
   "source": [
    "12. Write a Python statement that calculates `(a + b) * c` for some values of a, b, and c"
   ]
  },
  {
   "cell_type": "code",
   "execution_count": 19,
   "id": "b23bb2ac-4bae-4dd6-b2f3-95fb126a4148",
   "metadata": {},
   "outputs": [
    {
     "data": {
      "text/plain": [
       "20"
      ]
     },
     "execution_count": 19,
     "metadata": {},
     "output_type": "execute_result"
    }
   ],
   "source": [
    "a = 2\n",
    "b = 3\n",
    "c = 4\n",
    "\n",
    "result = (a + b) * c\n",
    "result\n"
   ]
  },
  {
   "cell_type": "markdown",
   "id": "2b29d6e5-10f9-43d4-9e7c-7ddfe29238fd",
   "metadata": {},
   "source": [
    "13. Draw and show how reassignment changes variable reference to a memory block."
   ]
  },
  {
   "cell_type": "markdown",
   "id": "3a06eae3-1e7d-4cbe-8d58-7d7633a7924c",
   "metadata": {},
   "source": [
    "Step 1: x = 10\n",
    "\n",
    "    ┌────────────┐\n",
    "x ─▶│   10       │\n",
    "    └────────────┘\n",
    "\n",
    "\n",
    "Step 2: x = 20\n",
    "\n",
    "    ┌────────────┐         ┌────────────┐\n",
    "    │   10       │         │   20       │\n",
    "    └────────────┘         └────────────┘\n",
    "           ↑                     ↑\n",
    "         (unused)           x ─▶ memory updated\n",
    "After reassignment, x points to the new value 20.\n",
    "\n",
    "The old value 10 is still in memory but no longer referenced by x."
   ]
  },
  {
   "cell_type": "code",
   "execution_count": 20,
   "id": "79b7174c-0323-45c0-9ecd-13d2e9885d90",
   "metadata": {},
   "outputs": [
    {
     "data": {
      "text/plain": [
       "15"
      ]
     },
     "execution_count": 20,
     "metadata": {},
     "output_type": "execute_result"
    }
   ],
   "source": [
    "x=10\n",
    "y=5\n",
    "x+y"
   ]
  },
  {
   "cell_type": "code",
   "execution_count": 21,
   "id": "55fcf539-60d0-49b2-97ef-8917405cd13c",
   "metadata": {},
   "outputs": [
    {
     "data": {
      "text/plain": [
       "25"
      ]
     },
     "execution_count": 21,
     "metadata": {},
     "output_type": "execute_result"
    }
   ],
   "source": [
    "x=20\n",
    "x+y"
   ]
  },
  {
   "cell_type": "code",
   "execution_count": null,
   "id": "e3bb33e3-f214-47c6-97f2-2735fc0071e1",
   "metadata": {},
   "outputs": [],
   "source": []
  }
 ],
 "metadata": {
  "kernelspec": {
   "display_name": "Python [conda env:base] *",
   "language": "python",
   "name": "conda-base-py"
  },
  "language_info": {
   "codemirror_mode": {
    "name": "ipython",
    "version": 3
   },
   "file_extension": ".py",
   "mimetype": "text/x-python",
   "name": "python",
   "nbconvert_exporter": "python",
   "pygments_lexer": "ipython3",
   "version": "3.13.5"
  }
 },
 "nbformat": 4,
 "nbformat_minor": 5
}
