{
 "cells": [
  {
   "cell_type": "markdown",
   "id": "d39695d1-d9c7-422d-b3ef-c236deb997b4",
   "metadata": {},
   "source": [
    "String inbuilt Methods examples\n"
   ]
  },
  {
   "cell_type": "markdown",
   "id": "322fef08-edd5-4214-864d-73a0ce1c1f70",
   "metadata": {},
   "source": [
    "Accessing String elements\n"
   ]
  },
  {
   "cell_type": "code",
   "execution_count": 1,
   "id": "b32199f5-949c-4764-b91f-4a3092b18857",
   "metadata": {},
   "outputs": [
    {
     "data": {
      "text/plain": [
       "'t'"
      ]
     },
     "execution_count": 1,
     "metadata": {},
     "output_type": "execute_result"
    }
   ],
   "source": [
    "s=\"python\"\n",
    "s[2]"
   ]
  },
  {
   "cell_type": "markdown",
   "id": "d910a27e-dd16-4682-a35a-6817d90e12b7",
   "metadata": {},
   "source": [
    "Slicing strings\n"
   ]
  },
  {
   "cell_type": "code",
   "execution_count": 4,
   "id": "75397073-3387-4e87-8132-d08d50ea51fd",
   "metadata": {},
   "outputs": [
    {
     "data": {
      "text/plain": [
       "'hon i'"
      ]
     },
     "execution_count": 4,
     "metadata": {},
     "output_type": "execute_result"
    }
   ],
   "source": [
    "a=\"python is a interpreted language\"\n",
    "a[3:8]\n"
   ]
  },
  {
   "cell_type": "code",
   "execution_count": 5,
   "id": "3696d0d7-5073-4716-a3b3-662fa5f80658",
   "metadata": {},
   "outputs": [
    {
     "data": {
      "text/plain": [
       "'s a interpreted language'"
      ]
     },
     "execution_count": 5,
     "metadata": {},
     "output_type": "execute_result"
    }
   ],
   "source": [
    "a[8:]"
   ]
  },
  {
   "cell_type": "markdown",
   "id": "cd26a94a-b449-4185-bcba-16d8fe845486",
   "metadata": {},
   "source": [
    "String Cocatenation"
   ]
  },
  {
   "cell_type": "code",
   "execution_count": 11,
   "id": "5ae64f93-82c2-4ac5-8776-141c176ba7a0",
   "metadata": {},
   "outputs": [
    {
     "name": "stdout",
     "output_type": "stream",
     "text": [
      "hello world\n"
     ]
    }
   ],
   "source": [
    "str1=\"hello\"\n",
    "str2=\"world\"\n",
    "add=str1+\" \"+str2\n",
    "print(add)"
   ]
  },
  {
   "cell_type": "markdown",
   "id": "22e9e3e4-dc41-441b-8b5f-e89459e6f6a3",
   "metadata": {},
   "source": [
    "String Repetition"
   ]
  },
  {
   "cell_type": "code",
   "execution_count": 14,
   "id": "661018ca-714d-40ce-90a4-7fcc36240c95",
   "metadata": {},
   "outputs": [
    {
     "name": "stdout",
     "output_type": "stream",
     "text": [
      "Python  Python  Python  \n"
     ]
    }
   ],
   "source": [
    "a=\"Python  \"\n",
    "print(a*3)"
   ]
  },
  {
   "cell_type": "markdown",
   "id": "b955059f-cbf0-4571-900d-19dab1a9e0c9",
   "metadata": {},
   "source": [
    "Strip()"
   ]
  },
  {
   "cell_type": "code",
   "execution_count": 15,
   "id": "97584f8f-39ce-4878-b805-78e100c6b85e",
   "metadata": {},
   "outputs": [
    {
     "data": {
      "text/plain": [
       "'hello'"
      ]
     },
     "execution_count": 15,
     "metadata": {},
     "output_type": "execute_result"
    }
   ],
   "source": [
    "a=\"   hello    \"\n",
    "a.strip()"
   ]
  },
  {
   "cell_type": "markdown",
   "id": "b6299cdf-86ba-4fbd-96b1-d98c6391d341",
   "metadata": {},
   "source": [
    "lower()"
   ]
  },
  {
   "cell_type": "code",
   "execution_count": 17,
   "id": "4298c3fe-b6ec-4faa-8d1c-61b9394778bb",
   "metadata": {},
   "outputs": [
    {
     "data": {
      "text/plain": [
       "'python'"
      ]
     },
     "execution_count": 17,
     "metadata": {},
     "output_type": "execute_result"
    }
   ],
   "source": [
    "a='Python'\n",
    "a.lower()"
   ]
  },
  {
   "cell_type": "markdown",
   "id": "63d23c12-c8ae-492f-810a-1be62d4fcaee",
   "metadata": {},
   "source": [
    "upper()"
   ]
  },
  {
   "cell_type": "code",
   "execution_count": 18,
   "id": "92e25726-765b-4e2b-b948-33a2a4d7dbd4",
   "metadata": {},
   "outputs": [
    {
     "data": {
      "text/plain": [
       "'PYTHON'"
      ]
     },
     "execution_count": 18,
     "metadata": {},
     "output_type": "execute_result"
    }
   ],
   "source": [
    "a.upper()"
   ]
  },
  {
   "cell_type": "markdown",
   "id": "5421fb7d-0ec7-42e9-9c12-333d7661db03",
   "metadata": {},
   "source": [
    "find(substring)"
   ]
  },
  {
   "cell_type": "code",
   "execution_count": 19,
   "id": "d240f441-2e62-4b77-996e-e4cc7279f0b7",
   "metadata": {},
   "outputs": [
    {
     "name": "stdout",
     "output_type": "stream",
     "text": [
      "6\n"
     ]
    }
   ],
   "source": [
    "a=\"hello world\"\n",
    "print(a.find('world'))"
   ]
  },
  {
   "cell_type": "markdown",
   "id": "07c230d2-35ff-4789-88f6-6f23d130c6e7",
   "metadata": {},
   "source": [
    "replace"
   ]
  },
  {
   "cell_type": "code",
   "execution_count": 20,
   "id": "820b279f-29d9-4444-b3ee-413619b79389",
   "metadata": {},
   "outputs": [
    {
     "data": {
      "text/plain": [
       "'hi world'"
      ]
     },
     "execution_count": 20,
     "metadata": {},
     "output_type": "execute_result"
    }
   ],
   "source": [
    "a=\"hello world\"\n",
    "a.replace('hello','hi')"
   ]
  },
  {
   "cell_type": "markdown",
   "id": "3f8f0339-1de3-40a4-b735-4ea3c30a126d",
   "metadata": {},
   "source": [
    "Split\n"
   ]
  },
  {
   "cell_type": "code",
   "execution_count": 24,
   "id": "70310295-716d-4bcc-b16d-71c29ea10c81",
   "metadata": {},
   "outputs": [
    {
     "data": {
      "text/plain": [
       "['a', 'b', 'c', 'd']"
      ]
     },
     "execution_count": 24,
     "metadata": {},
     "output_type": "execute_result"
    }
   ],
   "source": [
    "a='a,b,c,d'\n",
    "a.split(',')"
   ]
  },
  {
   "cell_type": "markdown",
   "id": "a65b01a6-16d6-4990-9259-4e4f8353199d",
   "metadata": {},
   "source": [
    "join"
   ]
  },
  {
   "cell_type": "code",
   "execution_count": 25,
   "id": "1a54cffb-b390-4b89-b00a-5442ae91e1be",
   "metadata": {},
   "outputs": [
    {
     "name": "stdout",
     "output_type": "stream",
     "text": [
      "a,b,c\n"
     ]
    }
   ],
   "source": [
    "a=['a','b','c']\n",
    "print(\",\".join(a))"
   ]
  },
  {
   "cell_type": "markdown",
   "id": "de7eb627-cb84-4aaf-a1c7-9421f447185c",
   "metadata": {},
   "source": [
    "StartsWith()"
   ]
  },
  {
   "cell_type": "code",
   "execution_count": 26,
   "id": "c2cd663d-28b7-499e-bbcb-3ed5e455a2ba",
   "metadata": {},
   "outputs": [
    {
     "data": {
      "text/plain": [
       "True"
      ]
     },
     "execution_count": 26,
     "metadata": {},
     "output_type": "execute_result"
    }
   ],
   "source": [
    "a=\"ayesha\"\n",
    "a.startswith(a)"
   ]
  },
  {
   "cell_type": "markdown",
   "id": "e28b8319-3701-47c7-90ad-dc2d681bf55e",
   "metadata": {},
   "source": [
    "EndsWith()"
   ]
  },
  {
   "cell_type": "code",
   "execution_count": 28,
   "id": "7f2835dc-6164-4920-9445-dfa54b022afd",
   "metadata": {},
   "outputs": [
    {
     "data": {
      "text/plain": [
       "False"
      ]
     },
     "execution_count": 28,
     "metadata": {},
     "output_type": "execute_result"
    }
   ],
   "source": [
    "a.endswith('p')"
   ]
  },
  {
   "cell_type": "markdown",
   "id": "d1c6d6fc-3f81-4279-9803-430c5573f07d",
   "metadata": {},
   "source": [
    "count()"
   ]
  },
  {
   "cell_type": "code",
   "execution_count": 29,
   "id": "57c6e5c0-0603-45e3-914a-00f4a12224d6",
   "metadata": {},
   "outputs": [
    {
     "data": {
      "text/plain": [
       "1"
      ]
     },
     "execution_count": 29,
     "metadata": {},
     "output_type": "execute_result"
    }
   ],
   "source": [
    "a.count(a)"
   ]
  },
  {
   "cell_type": "code",
   "execution_count": null,
   "id": "23f8ef41-5057-4f23-bcfc-6b522fc6dd3c",
   "metadata": {},
   "outputs": [],
   "source": []
  }
 ],
 "metadata": {
  "kernelspec": {
   "display_name": "Python [conda env:base] *",
   "language": "python",
   "name": "conda-base-py"
  },
  "language_info": {
   "codemirror_mode": {
    "name": "ipython",
    "version": 3
   },
   "file_extension": ".py",
   "mimetype": "text/x-python",
   "name": "python",
   "nbconvert_exporter": "python",
   "pygments_lexer": "ipython3",
   "version": "3.13.5"
  }
 },
 "nbformat": 4,
 "nbformat_minor": 5
}
