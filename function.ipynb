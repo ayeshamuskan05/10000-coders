{
 "cells": [
  {
   "cell_type": "markdown",
   "id": "836dae82-39ca-4387-b9fc-6dc2f05cd334",
   "metadata": {},
   "source": [
    "Write a function that takes two numbers and prints their sum.\n"
   ]
  },
  {
   "cell_type": "code",
   "execution_count": 1,
   "id": "e27960c8-f555-4223-ba9b-e83550a344a5",
   "metadata": {},
   "outputs": [
    {
     "name": "stdout",
     "output_type": "stream",
     "text": [
      "7\n"
     ]
    }
   ],
   "source": [
    "def sum(a,b):\n",
    "    sum=a+b\n",
    "    print(sum)\n",
    "sum(2,5)    "
   ]
  },
  {
   "cell_type": "markdown",
   "id": "c57fce75-66be-4fd9-88f8-5ab1dbfebbab",
   "metadata": {},
   "source": [
    "Write a function that prints the square of a number.\n"
   ]
  },
  {
   "cell_type": "code",
   "execution_count": 3,
   "id": "cdec6ea4-4069-48b7-904a-bceb8f3b1167",
   "metadata": {},
   "outputs": [
    {
     "name": "stdout",
     "output_type": "stream",
     "text": [
      "100\n"
     ]
    }
   ],
   "source": [
    "def square(n):\n",
    "    square=n**2\n",
    "    print(square)\n",
    "square(10)    "
   ]
  },
  {
   "cell_type": "markdown",
   "id": "b262c3c5-bfc5-4a25-908a-0afba2fc9b48",
   "metadata": {},
   "source": [
    "Write a function to check if a number is even or odd and print the result.\n"
   ]
  },
  {
   "cell_type": "code",
   "execution_count": 6,
   "id": "9faba714-7c7a-488f-a004-39dcae129fc9",
   "metadata": {},
   "outputs": [
    {
     "name": "stdout",
     "output_type": "stream",
     "text": [
      "odd\n"
     ]
    }
   ],
   "source": [
    "def even_odd(num):\n",
    "    if num % 2 == 0:\n",
    "        print(\"even\")\n",
    "    else:\n",
    "        print(\"odd\")\n",
    "even_odd(5)    \n",
    "    "
   ]
  },
  {
   "cell_type": "markdown",
   "id": "bcd50723-aa3c-4aa0-9fde-928064844731",
   "metadata": {},
   "source": [
    "Write a function that prints the factorial of a number.\n"
   ]
  },
  {
   "cell_type": "code",
   "execution_count": 13,
   "id": "fb1ef630-adf0-4be3-aefe-edf2646ef853",
   "metadata": {},
   "outputs": [
    {
     "name": "stdout",
     "output_type": "stream",
     "text": [
      "120\n"
     ]
    }
   ],
   "source": [
    "def factorial(num):\n",
    "    fact=1\n",
    "    for i in range(1,num+1):\n",
    "        fact=fact*i\n",
    "    print(fact)\n",
    "factorial(5)    \n",
    "    "
   ]
  },
  {
   "cell_type": "markdown",
   "id": "034f6d7b-93d2-43e9-818e-61345df71bbb",
   "metadata": {},
   "source": [
    "Write a function to find the maximum of three numbers and print it.\n"
   ]
  },
  {
   "cell_type": "code",
   "execution_count": 16,
   "id": "6d04dbdc-2af5-46ce-994c-0a89f1fc6b78",
   "metadata": {},
   "outputs": [
    {
     "name": "stdout",
     "output_type": "stream",
     "text": [
      "40 is greater\n"
     ]
    }
   ],
   "source": [
    "def max_of_three(num1,num2,num3):\n",
    "    if num1>num2 and num2>num3:\n",
    "        print(num1,\"is greater\")\n",
    "    elif num2>num1 and num2>num3:\n",
    "        print(num2,\"is greater\")\n",
    "    else:\n",
    "        print(num3,\"is greater\")\n",
    "max_of_three(5,40,8)        "
   ]
  },
  {
   "cell_type": "markdown",
   "id": "a3ecdf9d-85a1-48c4-ac91-c0a7fbf19d68",
   "metadata": {},
   "source": [
    "Write a function to count and print the number of vowels in a string.\n"
   ]
  },
  {
   "cell_type": "code",
   "execution_count": 23,
   "id": "070261f3-b8ca-4e41-a495-36e39f1bcf28",
   "metadata": {},
   "outputs": [
    {
     "name": "stdout",
     "output_type": "stream",
     "text": [
      "a\n",
      "e\n",
      "a\n",
      "Total vowels: 3\n"
     ]
    }
   ],
   "source": [
    "def vowels(word):\n",
    "    count = 0\n",
    "    for i in word:  \n",
    "        if i in \"aeiouAEIOU\":  \n",
    "            print(i)\n",
    "            count += 1\n",
    "    print(\"Total vowels:\", count)\n",
    "\n",
    "vowels('ayesha')\n"
   ]
  },
  {
   "cell_type": "markdown",
   "id": "1d812f53-0220-4eaf-bdae-acc779f4cd44",
   "metadata": {},
   "source": [
    "Write a function that takes a list and prints the sum of all elements.\n"
   ]
  },
  {
   "cell_type": "code",
   "execution_count": 27,
   "id": "08969f6a-a7c1-4539-a1ce-9f6a3a2b202b",
   "metadata": {},
   "outputs": [
    {
     "name": "stdout",
     "output_type": "stream",
     "text": [
      "10\n"
     ]
    }
   ],
   "source": [
    "def list_sum(list1):\n",
    "    total=0\n",
    "    for i in list1:\n",
    "        total+=i\n",
    "    print(total)\n",
    "list_sum([1,2,3,4])        "
   ]
  },
  {
   "cell_type": "markdown",
   "id": "e18ba58c-a04c-4ac7-89c5-c8dc10197d49",
   "metadata": {},
   "source": [
    "Write a function to reverse a string and print it.\n"
   ]
  },
  {
   "cell_type": "code",
   "execution_count": 30,
   "id": "bc8b8242-caf4-4f05-a488-3996a2af7bdb",
   "metadata": {},
   "outputs": [
    {
     "name": "stdout",
     "output_type": "stream",
     "text": [
      "ahseya\n"
     ]
    }
   ],
   "source": [
    "def reverse(string):\n",
    "    reverse_str =string[::-1]\n",
    "    print(reverse_str)\n",
    "reverse('ayesha')    \n",
    "    "
   ]
  },
  {
   "cell_type": "markdown",
   "id": "4730ccf8-17c6-48ee-8074-065eb03f0227",
   "metadata": {},
   "source": [
    "Write a function that checks if a string is a palindrome and prints the result.\n"
   ]
  },
  {
   "cell_type": "code",
   "execution_count": 32,
   "id": "f7275452-1289-48ef-ba4c-a17e90109f2d",
   "metadata": {},
   "outputs": [
    {
     "name": "stdout",
     "output_type": "stream",
     "text": [
      "palindrome\n"
     ]
    }
   ],
   "source": [
    "def palindrome(num1):\n",
    "    if num1==num1[::-1]:\n",
    "        print(\"palindrome\")\n",
    "    else:\n",
    "        print(\"not palindrome\")\n",
    "palindrome('mom')        "
   ]
  },
  {
   "cell_type": "markdown",
   "id": "323308bb-b125-44d2-9193-7f14a048b61f",
   "metadata": {},
   "source": [
    "Write a function that takes a list and prints only the even numbers.\n"
   ]
  },
  {
   "cell_type": "code",
   "execution_count": 36,
   "id": "1455a6b3-898d-4576-be2a-24582d19ae03",
   "metadata": {},
   "outputs": [
    {
     "name": "stdout",
     "output_type": "stream",
     "text": [
      "2\n",
      "4\n"
     ]
    }
   ],
   "source": [
    "def only_even(list2):\n",
    "    for i in list2:  \n",
    "        if i % 2 != 0:\n",
    "            continue  \n",
    "        else:\n",
    "            print(i)\n",
    "\n",
    "only_even([1, 2, 3, 4, 5])\n"
   ]
  },
  {
   "cell_type": "markdown",
   "id": "f5c7c869-e216-46ea-99cf-52986e01c3ab",
   "metadata": {},
   "source": [
    "Write a function to calculate and print the area of a circle given its radius.\n"
   ]
  },
  {
   "cell_type": "code",
   "execution_count": 39,
   "id": "1a768432-019f-491f-bc1d-d04cdd8f5bbe",
   "metadata": {},
   "outputs": [
    {
     "name": "stdout",
     "output_type": "stream",
     "text": [
      "314.0\n"
     ]
    }
   ],
   "source": [
    "def circle_radius(radius):\n",
    "    area=3.14*radius**2\n",
    "    print(area)\n",
    "circle_radius(10)    \n",
    "    "
   ]
  },
  {
   "cell_type": "markdown",
   "id": "745ff938-7f77-4962-af86-971b1427e6ea",
   "metadata": {},
   "source": [
    "Write a function that prints the length of a string without using the len() function.\n"
   ]
  },
  {
   "cell_type": "code",
   "execution_count": 42,
   "id": "dc95000d-b1c2-41aa-8f62-60bc62b4ad41",
   "metadata": {},
   "outputs": [
    {
     "name": "stdout",
     "output_type": "stream",
     "text": [
      "6\n"
     ]
    }
   ],
   "source": [
    "def len_of_string(string):\n",
    "    count=0\n",
    "    for i in string:\n",
    "        count+=1\n",
    "    print(count)\n",
    "len_of_string('ayesha')        \n",
    "    "
   ]
  },
  {
   "cell_type": "markdown",
   "id": "3cd50744-1fa6-4d54-8074-0f1c4e4b6c52",
   "metadata": {},
   "source": [
    "Write a function that accepts any number of arguments and prints their average.\n"
   ]
  },
  {
   "cell_type": "code",
   "execution_count": 43,
   "id": "5b897c7a-137b-466f-9622-2bc211ae07be",
   "metadata": {},
   "outputs": [
    {
     "name": "stdout",
     "output_type": "stream",
     "text": [
      "Average: 30.0\n"
     ]
    }
   ],
   "source": [
    "def average(*args):\n",
    "    if len(args) == 0:\n",
    "        print(\"No numbers provided\")\n",
    "    else:\n",
    "        total = 0\n",
    "        for num in args:\n",
    "            total += num\n",
    "        avg = total / len(args)\n",
    "        print(\"Average:\", avg)\n",
    "\n",
    "average(10, 20, 30, 40, 50)\n"
   ]
  },
  {
   "cell_type": "code",
   "execution_count": null,
   "id": "fac0dc33-d0f5-4b36-aad9-9b6a851de3c0",
   "metadata": {},
   "outputs": [],
   "source": []
  }
 ],
 "metadata": {
  "kernelspec": {
   "display_name": "Python [conda env:base] *",
   "language": "python",
   "name": "conda-base-py"
  },
  "language_info": {
   "codemirror_mode": {
    "name": "ipython",
    "version": 3
   },
   "file_extension": ".py",
   "mimetype": "text/x-python",
   "name": "python",
   "nbconvert_exporter": "python",
   "pygments_lexer": "ipython3",
   "version": "3.13.5"
  }
 },
 "nbformat": 4,
 "nbformat_minor": 5
}
