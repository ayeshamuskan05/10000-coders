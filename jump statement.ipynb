{
 "cells": [
  {
   "cell_type": "markdown",
   "id": "b16beff6-8e23-4062-bb75-19d1b228907a",
   "metadata": {},
   "source": [
    "1. Check Even or Odd\n",
    "Take a number from the user and check whether it is even or odd using if-else."
   ]
  },
  {
   "cell_type": "code",
   "execution_count": 1,
   "id": "213309b5-171d-4896-85dc-76a2ad7623e2",
   "metadata": {},
   "outputs": [
    {
     "name": "stdin",
     "output_type": "stream",
     "text": [
      "enter a number: 51\n"
     ]
    },
    {
     "name": "stdout",
     "output_type": "stream",
     "text": [
      "odd\n"
     ]
    }
   ],
   "source": [
    "a=int(input(\"enter a number:\"))\n",
    "if a % 2 == 0:\n",
    "    print(\"even\")\n",
    "else:\n",
    "    print(\"odd\")"
   ]
  },
  {
   "cell_type": "markdown",
   "id": "7db1261e-a109-4ea2-8595-aedac355e5da",
   "metadata": {},
   "source": [
    "2. Find the Greatest of Two Numbers\n",
    "Ask the user to enter two numbers and print which one is greater, or if they are equal."
   ]
  },
  {
   "cell_type": "code",
   "execution_count": 2,
   "id": "1190811e-31d3-4a23-814e-d735d2a5ac4f",
   "metadata": {},
   "outputs": [
    {
     "name": "stdin",
     "output_type": "stream",
     "text": [
      "enter num1: 5\n",
      "enter num2: 3\n"
     ]
    },
    {
     "name": "stdout",
     "output_type": "stream",
     "text": [
      "num1 is greater\n"
     ]
    }
   ],
   "source": [
    "num1=int(input(\"enter num1:\"))\n",
    "num2=int(input(\"enter num2:\"))\n",
    "if num1>num2:\n",
    "    print(\"num1 is greater\")\n",
    "else:\n",
    "    print(\"num2 is greater\")"
   ]
  },
  {
   "cell_type": "markdown",
   "id": "d39219ee-d30c-4828-af28-2a5e88bb6f0e",
   "metadata": {},
   "source": [
    "3. Find the Greatest of Three Numbers\n",
    "Take three numbers from the user and print the largest one using if-elif-else."
   ]
  },
  {
   "cell_type": "code",
   "execution_count": 6,
   "id": "fcac6710-72d7-4989-864c-cd73f0bd24c9",
   "metadata": {},
   "outputs": [
    {
     "name": "stdin",
     "output_type": "stream",
     "text": [
      "enter num1: 25\n",
      "enter num2: 20\n",
      "enter num3: 22\n"
     ]
    },
    {
     "name": "stdout",
     "output_type": "stream",
     "text": [
      "num1 is greater\n"
     ]
    }
   ],
   "source": [
    "num1=int(input(\"enter num1:\"))\n",
    "num2=int(input(\"enter num2:\"))\n",
    "num3=int(input(\"enter num3:\"))\n",
    "if num1>num2 and num1>num3:\n",
    "    print(\"num1 is greater\")\n",
    "elif num2>num1 and num2>num3:\n",
    "    print(\"num2 is greater\")\n",
    "else:\n",
    "    print(\"num3 is greater\")"
   ]
  },
  {
   "cell_type": "markdown",
   "id": "3e481964-c34b-4c17-b9e7-e93c2cd7a39c",
   "metadata": {},
   "source": [
    "4. Positive, Negative, or Zero\n",
    "Take a number as input and print whether it is positive, negative, or zero."
   ]
  },
  {
   "cell_type": "code",
   "execution_count": 9,
   "id": "5bccd646-5c1b-4d21-a1a8-0cd4c9d2d4ee",
   "metadata": {},
   "outputs": [
    {
     "name": "stdin",
     "output_type": "stream",
     "text": [
      "enter a number: 5\n"
     ]
    },
    {
     "name": "stdout",
     "output_type": "stream",
     "text": [
      "positive\n"
     ]
    }
   ],
   "source": [
    "a=int(input(\"enter a number:\"))\n",
    "if a>0:\n",
    "    print(\"positive\")\n",
    "elif a<0:\n",
    "    print(\"negative\")\n",
    "else:\n",
    "    print(\"zero\")"
   ]
  },
  {
   "cell_type": "markdown",
   "id": "813929c3-92c3-43ad-a54a-49350e1cb502",
   "metadata": {},
   "source": [
    "5. Sum of First N Natural Numbers\n",
    "Ask the user for a number n, and print the sum of numbers from 1 to n using a for loop."
   ]
  },
  {
   "cell_type": "code",
   "execution_count": 13,
   "id": "eb2af607-9f38-4d63-9403-35a04f03d6c7",
   "metadata": {},
   "outputs": [
    {
     "name": "stdin",
     "output_type": "stream",
     "text": [
      "enter a number: 10\n"
     ]
    },
    {
     "name": "stdout",
     "output_type": "stream",
     "text": [
      "55\n"
     ]
    }
   ],
   "source": [
    "n=int(input(\"enter a number:\"))\n",
    "sum=0\n",
    "for i in range(1,n+1):\n",
    "    sum=sum+i\n",
    "print(sum)    \n",
    "    "
   ]
  },
  {
   "cell_type": "markdown",
   "id": "577924ae-e52c-46de-853b-bacbb357b0a5",
   "metadata": {},
   "source": [
    "6. Print Even Numbers from 1 to N\n",
    "Take a number n from the user and print all even numbers between 1 and n."
   ]
  },
  {
   "cell_type": "code",
   "execution_count": null,
   "id": "fec42495-1d25-471e-8b24-4706b1c9fcab",
   "metadata": {},
   "outputs": [],
   "source": []
  },
  {
   "cell_type": "code",
   "execution_count": 2,
   "id": "5813073b-136f-4dd4-909d-e8c1c7fb2881",
   "metadata": {},
   "outputs": [
    {
     "name": "stdin",
     "output_type": "stream",
     "text": [
      "enter a number: 20\n"
     ]
    },
    {
     "name": "stdout",
     "output_type": "stream",
     "text": [
      "2\n",
      "4\n",
      "6\n",
      "8\n",
      "10\n",
      "12\n",
      "14\n",
      "16\n",
      "18\n"
     ]
    }
   ],
   "source": [
    "n=int(input(\"enter a number:\"))\n",
    "for i in range(1,n):\n",
    "    if i%2==0:\n",
    "        print(i)"
   ]
  },
  {
   "cell_type": "markdown",
   "id": "fa1268dc-8a53-4e25-9e31-17ade2c41de9",
   "metadata": {},
   "source": [
    "7. Table of a Number\n",
    "Input a number from the user and print its multiplication table from 1 to 10."
   ]
  },
  {
   "cell_type": "code",
   "execution_count": 5,
   "id": "1cf823fb-e231-4ac0-8af0-29ce32994310",
   "metadata": {},
   "outputs": [
    {
     "name": "stdin",
     "output_type": "stream",
     "text": [
      "enter a number: 5\n"
     ]
    },
    {
     "name": "stdout",
     "output_type": "stream",
     "text": [
      "5 X 1=5\n",
      "5 X 2=10\n",
      "5 X 3=15\n",
      "5 X 4=20\n",
      "5 X 5=25\n",
      "5 X 6=30\n",
      "5 X 7=35\n",
      "5 X 8=40\n",
      "5 X 9=45\n",
      "5 X 10=50\n"
     ]
    }
   ],
   "source": [
    "n=int(input(\"enter a number:\"))\n",
    "for i in range(1,11):\n",
    "    print(f\"{n} X {i}={n*i}\")"
   ]
  },
  {
   "cell_type": "markdown",
   "id": "5c6c6771-0ab4-4c91-8eff-8ceaad01acdd",
   "metadata": {},
   "source": [
    "8. Count from 1 to 10 Using While Loop\n",
    "Use a while loop to print numbers from 1 to 10."
   ]
  },
  {
   "cell_type": "code",
   "execution_count": 2,
   "id": "b499018f-9a87-4092-bcfc-a0d8f2ab9b1a",
   "metadata": {},
   "outputs": [
    {
     "name": "stdout",
     "output_type": "stream",
     "text": [
      "1\n",
      "2\n",
      "3\n",
      "4\n",
      "5\n",
      "6\n",
      "7\n",
      "8\n",
      "9\n",
      "10\n"
     ]
    }
   ],
   "source": [
    "count=1\n",
    "while count<=10:\n",
    "    print(count)\n",
    "    count+=1"
   ]
  },
  {
   "cell_type": "markdown",
   "id": "d7bf0db0-77f3-4b70-b725-d9e2d0c222d7",
   "metadata": {},
   "source": [
    "9. Sum of Digits\n",
    "Take a number and find the sum of its digits using a while loop."
   ]
  },
  {
   "cell_type": "code",
   "execution_count": 4,
   "id": "2dd9924e-be1d-4c31-b621-8e7086ffe7e9",
   "metadata": {},
   "outputs": [
    {
     "name": "stdin",
     "output_type": "stream",
     "text": [
      "enter a number: 85\n"
     ]
    },
    {
     "name": "stdout",
     "output_type": "stream",
     "text": [
      "13\n"
     ]
    }
   ],
   "source": [
    "num=int(input(\"enter a number:\"))\n",
    "sum=0\n",
    "while num>0:\n",
    "    remainder=num%10\n",
    "    sum=sum+remainder\n",
    "    num=num//10\n",
    "print(sum) \n",
    "    "
   ]
  },
  {
   "cell_type": "markdown",
   "id": "c50d1665-1279-46c9-84c1-de04b9f0db99",
   "metadata": {},
   "source": [
    "10. Simple Login System\n",
    "Ask the user to enter a password. Allow 3 attempts. If correct, print 'Login successful', else 'Account\n",
    "locked'."
   ]
  },
  {
   "cell_type": "code",
   "execution_count": 5,
   "id": "05d8b643-8e00-452f-9948-e04e3571e10a",
   "metadata": {},
   "outputs": [
    {
     "name": "stdin",
     "output_type": "stream",
     "text": [
      "enter a password: uma\n"
     ]
    },
    {
     "name": "stdout",
     "output_type": "stream",
     "text": [
      "u have 2 attempts left\n"
     ]
    },
    {
     "name": "stdin",
     "output_type": "stream",
     "text": [
      "enter a password: visha\n"
     ]
    },
    {
     "name": "stdout",
     "output_type": "stream",
     "text": [
      "u have 1 attempts left\n"
     ]
    },
    {
     "name": "stdin",
     "output_type": "stream",
     "text": [
      "enter a password: ayesha\n"
     ]
    },
    {
     "name": "stdout",
     "output_type": "stream",
     "text": [
      "login successful\n"
     ]
    }
   ],
   "source": [
    "correct_pas=\"ayesha\"\n",
    "attempts=3\n",
    "while attempts>0:\n",
    "    password=input(\"enter a password:\")\n",
    "    if password== correct_pas:\n",
    "        print(\"login successful\")\n",
    "        break\n",
    "    else:\n",
    "        attempts-=1\n",
    "        if attempts>0:\n",
    "            print(f\"u have {attempts} attempts left\")\n",
    "        else:\n",
    "            print(\"account blocked\")\n",
    "   \n",
    "    "
   ]
  },
  {
   "cell_type": "markdown",
   "id": "ab329650-cebf-45ea-b162-fda1761087ac",
   "metadata": {},
   "source": [
    "11. Skip Multiples of 3\n",
    "Print numbers from 1 to 20 but skip numbers that are multiples of 3 using continue."
   ]
  },
  {
   "cell_type": "code",
   "execution_count": 11,
   "id": "f838dc7a-2df8-4078-8dfb-2f802dc00236",
   "metadata": {},
   "outputs": [
    {
     "name": "stdout",
     "output_type": "stream",
     "text": [
      "1\n",
      "2\n",
      "4\n",
      "5\n",
      "7\n",
      "8\n",
      "10\n",
      "11\n",
      "13\n",
      "14\n",
      "16\n",
      "17\n",
      "19\n"
     ]
    }
   ],
   "source": [
    "for i in range(1,20):\n",
    "    if i %3==0:\n",
    "        continue\n",
    "    print(i)"
   ]
  },
  {
   "cell_type": "markdown",
   "id": "954ac153-4e78-4ff7-9134-ee9a5f9f9e21",
   "metadata": {},
   "source": [
    "12. Break on Input Zero\n",
    "\n",
    "Keep asking the user to enter numbers. If they enter 0, stop the program using break.\n"
   ]
  },
  {
   "cell_type": "code",
   "execution_count": null,
   "id": "6210587a-2c45-43c9-ae25-e9452e0591bc",
   "metadata": {
    "scrolled": true
   },
   "outputs": [
    {
     "name": "stdin",
     "output_type": "stream",
     "text": [
      "Enter a number (0 to stop):  54\n"
     ]
    },
    {
     "name": "stdout",
     "output_type": "stream",
     "text": [
      "You entered: 54\n"
     ]
    },
    {
     "name": "stdin",
     "output_type": "stream",
     "text": [
      "Enter a number (0 to stop):  4\n"
     ]
    },
    {
     "name": "stdout",
     "output_type": "stream",
     "text": [
      "You entered: 4\n"
     ]
    }
   ],
   "source": [
    "while True:\n",
    "    num = int(input(\"Enter a number (0 to stop): \"))\n",
    "    if num == 0:\n",
    "        print(\"Program stopped.\")\n",
    "        break\n",
    "    else:\n",
    "        print(f\"You entered: {num}\")\n"
   ]
  },
  {
   "cell_type": "markdown",
   "id": "1ff03f32-a775-4961-94c5-123980104fa2",
   "metadata": {},
   "source": [
    "13. Count Even and Odd in a List of 5 Numbers\n",
    "Ask the user to enter 5 numbers, count how many are even and how many are odd."
   ]
  },
  {
   "cell_type": "code",
   "execution_count": 11,
   "id": "d9f4471d-eeeb-4f81-869e-429b17c9a3c2",
   "metadata": {},
   "outputs": [
    {
     "name": "stdin",
     "output_type": "stream",
     "text": [
      "Enter 5 numbers separated by space:  4 2 6 8 10\n"
     ]
    },
    {
     "name": "stdout",
     "output_type": "stream",
     "text": [
      "5\n",
      "0\n"
     ]
    }
   ],
   "source": [
    "even_count=0\n",
    "odd_count=0\n",
    "user = list(map(int, input(\"Enter 5 numbers separated by space: \").split()))\n",
    "for i in user:\n",
    "    if i % 2==0:\n",
    "        even_count+=1\n",
    "    else: \n",
    "        odd_count+=1\n",
    "print(even_count)    \n",
    "print(odd_count)"
   ]
  },
  {
   "cell_type": "markdown",
   "id": "2fb6c163-3272-42e3-a23b-6844e4c31e8b",
   "metadata": {},
   "source": [
    "14. Print All Characters in a Word\n",
    "Input a word from the user and print one character per line using a for loop."
   ]
  },
  {
   "cell_type": "code",
   "execution_count": 10,
   "id": "5dfa175c-e9f3-4914-8dad-19139eb0050c",
   "metadata": {},
   "outputs": [
    {
     "name": "stdin",
     "output_type": "stream",
     "text": [
      "enter a word: ayesha\n"
     ]
    },
    {
     "name": "stdout",
     "output_type": "stream",
     "text": [
      "a\n",
      "y\n",
      "e\n",
      "s\n",
      "h\n",
      "a\n"
     ]
    }
   ],
   "source": [
    "word=input(\"enter a word:\")\n",
    "for i in word:\n",
    "    print(i)"
   ]
  },
  {
   "cell_type": "markdown",
   "id": "057d84ce-7f64-4764-b0b4-c2b668d4259c",
   "metadata": {},
   "source": [
    "15. Check Divisibility\n",
    "Take a number and check whether it is divisible by 2 and 5 both, using if-else."
   ]
  },
  {
   "cell_type": "code",
   "execution_count": 1,
   "id": "e301dad6-9fc5-4176-93ea-849dc38c0da6",
   "metadata": {},
   "outputs": [
    {
     "name": "stdin",
     "output_type": "stream",
     "text": [
      "enter a number: 50\n"
     ]
    },
    {
     "name": "stdout",
     "output_type": "stream",
     "text": [
      "divisible\n"
     ]
    }
   ],
   "source": [
    "num=int(input(\"enter a number:\"))\n",
    "if num%2==0 and num%5==0:\n",
    "    print(\"divisible\")\n",
    "else:\n",
    "    print(\"not divisible\")"
   ]
  },
  {
   "cell_type": "code",
   "execution_count": null,
   "id": "af776986-ceec-4142-abf6-7ec787492187",
   "metadata": {},
   "outputs": [],
   "source": []
  }
 ],
 "metadata": {
  "kernelspec": {
   "display_name": "Python [conda env:base] *",
   "language": "python",
   "name": "conda-base-py"
  },
  "language_info": {
   "codemirror_mode": {
    "name": "ipython",
    "version": 3
   },
   "file_extension": ".py",
   "mimetype": "text/x-python",
   "name": "python",
   "nbconvert_exporter": "python",
   "pygments_lexer": "ipython3",
   "version": "3.13.5"
  }
 },
 "nbformat": 4,
 "nbformat_minor": 5
}
