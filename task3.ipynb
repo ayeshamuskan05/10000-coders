{
 "cells": [
  {
   "cell_type": "markdown",
   "id": "dc5e5151-ed3e-4e84-bc11-7479439dcd80",
   "metadata": {},
   "source": [
    "What is a string in Python?\n"
   ]
  },
  {
   "cell_type": "markdown",
   "id": "8a2a33d0-b0d0-45fe-b2cf-b1ef5cd9fee8",
   "metadata": {},
   "source": [
    "A string is a sequence of characters"
   ]
  },
  {
   "cell_type": "markdown",
   "id": "082c2a78-bac3-482f-b593-3e8db559a26c",
   "metadata": {},
   "source": [
    "What is indexing in a string?\n"
   ]
  },
  {
   "cell_type": "markdown",
   "id": "ba3e439f-1ae1-42ca-bf50-61ca746a3add",
   "metadata": {},
   "source": [
    "In Python, indexing means accessing individual characters of a string using their position (index).\n",
    "\n",
    "1. Index starts from 0 for the first character, 1 for the second, and so on.\n",
    "2. You can also use negative indices: -1 refers to the last character, -2 to the second-last, etc."
   ]
  },
  {
   "cell_type": "markdown",
   "id": "0273dac6-ceea-4892-adfb-12664dfa8653",
   "metadata": {},
   "source": [
    "Given text = 'hello', what is text[0]? \n",
    "What will be the output of text[4]? \n",
    "What does text[-1] give?\n"
   ]
  },
  {
   "cell_type": "code",
   "execution_count": 3,
   "id": "3991f100-20cd-411d-8e02-743bf7e7c343",
   "metadata": {},
   "outputs": [
    {
     "data": {
      "text/plain": [
       "'h'"
      ]
     },
     "execution_count": 3,
     "metadata": {},
     "output_type": "execute_result"
    }
   ],
   "source": [
    "text=\"hello\"\n",
    "text[0]\n"
   ]
  },
  {
   "cell_type": "code",
   "execution_count": 4,
   "id": "3a22f0f5-c661-4e34-b6d6-42569ea43bd4",
   "metadata": {},
   "outputs": [
    {
     "data": {
      "text/plain": [
       "'o'"
      ]
     },
     "execution_count": 4,
     "metadata": {},
     "output_type": "execute_result"
    }
   ],
   "source": [
    "text[4]"
   ]
  },
  {
   "cell_type": "code",
   "execution_count": 5,
   "id": "37bf83e0-82f1-4577-aedf-50c3233b1a1c",
   "metadata": {},
   "outputs": [
    {
     "data": {
      "text/plain": [
       "'o'"
      ]
     },
     "execution_count": 5,
     "metadata": {},
     "output_type": "execute_result"
    }
   ],
   "source": [
    "text[-1]"
   ]
  },
  {
   "cell_type": "markdown",
   "id": "46fd7d44-f8d5-40d8-a64c-8354473af4d3",
   "metadata": {},
   "source": [
    "If name = 'Ajay', what is the value of name[0] + name[3]? \n",
    "What happens if you try name[10]?\n"
   ]
  },
  {
   "cell_type": "code",
   "execution_count": 8,
   "id": "31d66640-05f2-433e-a567-1eb6434b3a1d",
   "metadata": {},
   "outputs": [
    {
     "name": "stdout",
     "output_type": "stream",
     "text": [
      "Ay\n"
     ]
    }
   ],
   "source": [
    "name = \"Ajay\"\n",
    "result = name[0] + name[3]\n",
    "print(result)\n"
   ]
  },
  {
   "cell_type": "markdown",
   "id": "dba0284f-d5d0-4747-9a53-e22c7b289eba",
   "metadata": {},
   "source": [
    "Given s = 'Python', what is s[0:2]? \n",
    "What does s[5:1] return?\n"
   ]
  },
  {
   "cell_type": "code",
   "execution_count": 9,
   "id": "c9f2857a-756d-4d45-918e-8cecaf3370eb",
   "metadata": {},
   "outputs": [
    {
     "data": {
      "text/plain": [
       "'py'"
      ]
     },
     "execution_count": 9,
     "metadata": {},
     "output_type": "execute_result"
    }
   ],
   "source": [
    "s=\"python\"\n",
    "s[0:2]\n"
   ]
  },
  {
   "cell_type": "code",
   "execution_count": 10,
   "id": "6a6bbd5b-269f-44da-989f-95c45c6bc7f8",
   "metadata": {},
   "outputs": [
    {
     "data": {
      "text/plain": [
       "''"
      ]
     },
     "execution_count": 10,
     "metadata": {},
     "output_type": "execute_result"
    }
   ],
   "source": [
    "s[5:1]"
   ]
  },
  {
   "cell_type": "markdown",
   "id": "c78f3865-22a8-406f-8453-63858135edb7",
   "metadata": {},
   "source": [
    "Predict the output for string s =  'Python' . If the code is print(s[2: -1 :2])\n"
   ]
  },
  {
   "cell_type": "code",
   "execution_count": 11,
   "id": "a5dfe0c0-beb1-439e-84de-faf413735ad0",
   "metadata": {},
   "outputs": [
    {
     "name": "stdout",
     "output_type": "stream",
     "text": [
      "to\n"
     ]
    }
   ],
   "source": [
    "s=\"python\"\n",
    "print(s[2:-1:2])"
   ]
  },
  {
   "cell_type": "markdown",
   "id": "4579aa56-02e1-4a5f-ba86-680e9065eea6",
   "metadata": {},
   "source": [
    "Write code to print the last 3 letters of 'elephant'.\n",
    "\n"
   ]
  },
  {
   "cell_type": "code",
   "execution_count": 20,
   "id": "089a2670-7f20-4fe3-9b58-45b78b3ef50d",
   "metadata": {},
   "outputs": [
    {
     "data": {
      "text/plain": [
       "'ant'"
      ]
     },
     "execution_count": 20,
     "metadata": {},
     "output_type": "execute_result"
    }
   ],
   "source": [
    "x = \"elephant\"\n",
    "x[-3:]"
   ]
  },
  {
   "cell_type": "markdown",
   "id": "0dc1b0bc-ff63-49c4-ac3c-8aa79556b2c0",
   "metadata": {},
   "source": [
    "How to get only the middle 3 letters from 'Science'?\n"
   ]
  },
  {
   "cell_type": "code",
   "execution_count": 24,
   "id": "60627391-09e3-442f-9d65-6a8dd9376649",
   "metadata": {},
   "outputs": [
    {
     "name": "stdout",
     "output_type": "stream",
     "text": [
      "ien\n"
     ]
    }
   ],
   "source": [
    "word = \"science\"\n",
    "middle_index= len(word) // 2\n",
    "print(word[middle_index-1 : middle_index+2])"
   ]
  },
  {
   "cell_type": "markdown",
   "id": "469f8218-2f92-4382-b013-9f5a59f73e16",
   "metadata": {},
   "source": [
    "What is the difference between s[2:5] and s[2:5:1]?\n",
    "\n"
   ]
  },
  {
   "cell_type": "markdown",
   "id": "8dd2666c-2246-40ea-8da6-910bd14e5d0b",
   "metadata": {},
   "source": [
    " s[2:5] and s[2:5:1] both extract the substring from index 2 up to (but not including) index 5.\n",
    " The difference is that s[2:5:1] explicitly specifies a step of 1, while s[2:5] uses the default step of 1 — so they behave the same here."
   ]
  }
 ],
 "metadata": {
  "kernelspec": {
   "display_name": "Python [conda env:base] *",
   "language": "python",
   "name": "conda-base-py"
  },
  "language_info": {
   "codemirror_mode": {
    "name": "ipython",
    "version": 3
   },
   "file_extension": ".py",
   "mimetype": "text/x-python",
   "name": "python",
   "nbconvert_exporter": "python",
   "pygments_lexer": "ipython3",
   "version": "3.13.5"
  }
 },
 "nbformat": 4,
 "nbformat_minor": 5
}
