{
 "cells": [
  {
   "cell_type": "markdown",
   "id": "5733d2ca-9fac-4628-bc9f-33885779b6e5",
   "metadata": {},
   "source": [
    "1.WAP print factors of number .\n"
   ]
  },
  {
   "cell_type": "code",
   "execution_count": 6,
   "id": "cdc18acc-539f-45f9-9f89-914045ba4602",
   "metadata": {},
   "outputs": [
    {
     "name": "stdin",
     "output_type": "stream",
     "text": [
      "Enter a number:  5\n"
     ]
    },
    {
     "name": "stdout",
     "output_type": "stream",
     "text": [
      "Factors of 5 are:\n",
      "1\n",
      "5\n"
     ]
    }
   ],
   "source": [
    "n = int(input(\"Enter a number: \"))\n",
    "print(f\"Factors of {n} are:\")\n",
    "for i in range(1, n + 1):\n",
    "    if n % i == 0:\n",
    "        print(i)\n"
   ]
  },
  {
   "cell_type": "markdown",
   "id": "101ac4d6-69c5-4df6-ad92-2fd0b7d74904",
   "metadata": {},
   "source": [
    "2 .print even numbers from 2 to 10 using while loop .\n"
   ]
  },
  {
   "cell_type": "code",
   "execution_count": 10,
   "id": "8f132988-e3e0-4a89-8f71-20da0c63281b",
   "metadata": {},
   "outputs": [
    {
     "name": "stdout",
     "output_type": "stream",
     "text": [
      "2\n",
      "4\n",
      "6\n",
      "8\n",
      "10\n"
     ]
    }
   ],
   "source": [
    "n=2\n",
    "while n<=10:\n",
    "    if n % 2==0:\n",
    "        print(n)\n",
    "    n+=1    "
   ]
  },
  {
   "cell_type": "markdown",
   "id": "fff76bf7-4d0d-45c6-8155-d77a23b2cbb0",
   "metadata": {},
   "source": [
    "3.sum of numbers from 1 to 5 .\n"
   ]
  },
  {
   "cell_type": "code",
   "execution_count": 12,
   "id": "4018f85b-daa3-480d-a0c6-32fc786a2097",
   "metadata": {},
   "outputs": [
    {
     "name": "stdout",
     "output_type": "stream",
     "text": [
      "Sum is: 15\n"
     ]
    }
   ],
   "source": [
    "sum = 0\n",
    "for i in range(1, 6):\n",
    "    sum += i\n",
    "print(\"Sum is:\", sum)\n"
   ]
  },
  {
   "cell_type": "markdown",
   "id": "cd72036e-6438-45ea-8c49-d1badc78246f",
   "metadata": {},
   "source": [
    "4. take a single string check the string is upper case or not if it is upper print upper else lower case .\n"
   ]
  },
  {
   "cell_type": "code",
   "execution_count": 13,
   "id": "7ed754e1-4693-4c00-a06f-d4431f73f594",
   "metadata": {},
   "outputs": [
    {
     "name": "stdout",
     "output_type": "stream",
     "text": [
      "lower\n"
     ]
    }
   ],
   "source": [
    "a=\"ayesha\"\n",
    "if a.isupper():\n",
    "  print(\"upper\")\n",
    "else:\n",
    "  print(\"lower\")"
   ]
  },
  {
   "cell_type": "markdown",
   "id": "6ae8c29a-819b-4ed1-b514-7f5d9635a86d",
   "metadata": {},
   "source": [
    "5. 5.take a single char check that string upper or not if it is upper convert to lower else print it is already lower case\n"
   ]
  },
  {
   "cell_type": "code",
   "execution_count": 14,
   "id": "75bd384a-33b0-413d-9dde-dd2022742c39",
   "metadata": {},
   "outputs": [
    {
     "name": "stdin",
     "output_type": "stream",
     "text": [
      "Enter a single character:  ayesha\n"
     ]
    },
    {
     "name": "stdout",
     "output_type": "stream",
     "text": [
      "It is already lowercase\n"
     ]
    }
   ],
   "source": [
    "ch = input(\"Enter a single character: \")\n",
    "\n",
    "if ch.isupper():\n",
    "    print(\"Converted to lowercase:\", ch.lower())\n",
    "else:\n",
    "    print(\"It is already lowercase\")\n"
   ]
  },
  {
   "cell_type": "code",
   "execution_count": null,
   "id": "dd8a6823-ea6e-4eaa-8f71-2bbb4d9228ac",
   "metadata": {},
   "outputs": [],
   "source": []
  }
 ],
 "metadata": {
  "kernelspec": {
   "display_name": "Python [conda env:base] *",
   "language": "python",
   "name": "conda-base-py"
  },
  "language_info": {
   "codemirror_mode": {
    "name": "ipython",
    "version": 3
   },
   "file_extension": ".py",
   "mimetype": "text/x-python",
   "name": "python",
   "nbconvert_exporter": "python",
   "pygments_lexer": "ipython3",
   "version": "3.13.5"
  }
 },
 "nbformat": 4,
 "nbformat_minor": 5
}
