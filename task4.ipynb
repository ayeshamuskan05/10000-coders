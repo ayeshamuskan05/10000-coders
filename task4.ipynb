{
 "cells": [
  {
   "cell_type": "markdown",
   "id": "e3451496-075e-4ea8-a915-ebe43423ca16",
   "metadata": {},
   "source": [
    "What is a data type in Python?\n"
   ]
  },
  {
   "cell_type": "markdown",
   "id": "d10a251f-d248-412b-aaa0-e26bb8e62fbb",
   "metadata": {},
   "source": [
    "A data type in Python tells what kind of value something is, like a number, text, or list.\n"
   ]
  },
  {
   "cell_type": "markdown",
   "id": "bb1b2e94-d534-41bf-bcc7-050e94a9218e",
   "metadata": {},
   "source": [
    "List all the data types that we have in Python?\n"
   ]
  },
  {
   "cell_type": "markdown",
   "id": "61c1e5c2-7a9c-4080-9f86-6585c8fcb5b1",
   "metadata": {},
   "source": [
    "Numeric data types: int, float, complex.\n",
    "String data types: str.\n",
    "Sequence types: list, tuple, range.\n",
    "Mapping data type: dict.\n",
    "Boolean type: bool.\n",
    "Set data types: set, frozenset."
   ]
  },
  {
   "cell_type": "markdown",
   "id": "2136d1de-5727-4af3-b50f-c860776c5592",
   "metadata": {},
   "source": [
    "What is the difference between mutable and immutable data types?\n"
   ]
  },
  {
   "cell_type": "markdown",
   "id": "d4b93e6b-efd5-4aa1-a3e2-a58135e54d79",
   "metadata": {},
   "source": [
    "Immutable data type cannot be changed once declared.\n",
    "Mutable data types can be changed after declaration."
   ]
  },
  {
   "cell_type": "markdown",
   "id": "17cd94e5-4fb8-4cfb-8df4-a666728eeab0",
   "metadata": {},
   "source": [
    "What is the difference between int, float, and complex?\n"
   ]
  },
  {
   "cell_type": "markdown",
   "id": "56c6a0b2-5e39-441d-9669-96e789e4bc10",
   "metadata": {},
   "source": [
    "All there data types are of numeric type\n",
    "int- it is used only for numeric values\n",
    "float- it is used for decimal valuess\n",
    "complex- it is used when real and imaginary values exists.\n",
    "\n"
   ]
  },
  {
   "cell_type": "markdown",
   "id": "2e8f6c78-5ad0-492d-b26a-ddc9be525eda",
   "metadata": {},
   "source": [
    "Which data type is used to represent text in Python?"
   ]
  },
  {
   "cell_type": "markdown",
   "id": "1b7cf9df-2c85-485a-8b5d-8cc1864fa0ee",
   "metadata": {},
   "source": [
    "string is used to represent text in python"
   ]
  },
  {
   "cell_type": "markdown",
   "id": "0b449aea-7223-4701-a6a6-56174c4a5664",
   "metadata": {},
   "source": [
    "What is the output of type(521) and type(\"521\")?\n"
   ]
  },
  {
   "cell_type": "code",
   "execution_count": 2,
   "id": "5e238548-dd20-481c-99c6-974a93c9f22b",
   "metadata": {},
   "outputs": [
    {
     "data": {
      "text/plain": [
       "int"
      ]
     },
     "execution_count": 2,
     "metadata": {},
     "output_type": "execute_result"
    }
   ],
   "source": [
    "type(521)"
   ]
  },
  {
   "cell_type": "code",
   "execution_count": 3,
   "id": "6bf070f8-3c63-48c1-a515-9151c339254d",
   "metadata": {},
   "outputs": [
    {
     "data": {
      "text/plain": [
       "str"
      ]
     },
     "execution_count": 3,
     "metadata": {},
     "output_type": "execute_result"
    }
   ],
   "source": [
    "type(\"521\")"
   ]
  },
  {
   "cell_type": "markdown",
   "id": "e298e9b0-3b42-4ec9-a396-593f197af264",
   "metadata": {},
   "source": [
    "What is the difference between list, tuple, and set?\n"
   ]
  },
  {
   "cell_type": "markdown",
   "id": "9b0d1805-5d95-49fa-b730-0f2333b95078",
   "metadata": {},
   "source": [
    "-> list — Ordered, changeable (mutable), allows duplicates.\n",
    "  Example: [1, 2, 3, 2]\n",
    "\n",
    "-> tuple — Ordered, unchangeable (immutable), allows duplicates.\n",
    "  Example: (1, 2, 3, 2)\n",
    "\n",
    "-> set — Unordered, changeable, does NOT allow duplicates.\n",
    "  Example: {1, 2, 3}"
   ]
  },
  {
   "cell_type": "markdown",
   "id": "198a271b-c1e6-43db-a6f6-839d89b31d4c",
   "metadata": {},
   "source": [
    "How is a dictionary different from a list?\n"
   ]
  },
  {
   "cell_type": "markdown",
   "id": "d8a07f5c-15c4-415c-bffc-83aba082a607",
   "metadata": {},
   "source": [
    "-> A list is an ordered collection of values, accessed by their position (index).\n",
    "  Example: my_list = [10, 20, 30] → my_list[0] gives 10.\n",
    "\n",
    "-> A dictionary is an unordered collection of key-value pairs, accessed by keys.\n",
    "  Example: my_dict = {\"a\": 1, \"b\": 2} → my_dict[\"a\"] gives 1."
   ]
  },
  {
   "cell_type": "markdown",
   "id": "3bd69b90-7879-4163-a910-c81144ca74d5",
   "metadata": {},
   "source": [
    "What is the default data type of a number with a decimal point?\n"
   ]
  },
  {
   "cell_type": "markdown",
   "id": "6b65e65d-7b4f-4bd3-962e-82e6481b2d97",
   "metadata": {},
   "source": [
    "The default data type of a number with a decimal point is float."
   ]
  },
  {
   "cell_type": "markdown",
   "id": "0ebe0a38-ecbb-485d-b59a-4afe8d8ea947",
   "metadata": {},
   "source": [
    "Declare variables of type int, float, string, and complex.\n"
   ]
  },
  {
   "cell_type": "code",
   "execution_count": 4,
   "id": "b3fa046e-2864-48b1-90b3-f4b97451cb5c",
   "metadata": {},
   "outputs": [
    {
     "name": "stdout",
     "output_type": "stream",
     "text": [
      "10 10.2 hello (2+3j)\n"
     ]
    }
   ],
   "source": [
    "a=10\n",
    "b=10.2\n",
    "c=\"hello\"\n",
    "d=2+3J\n",
    "print(a,b,c,d)"
   ]
  },
  {
   "cell_type": "markdown",
   "id": "8925092b-8f63-44e3-8345-4d52c45a90ec",
   "metadata": {},
   "source": [
    "Take any 3 datatypes examples and check type of each variable using the type() function.\n"
   ]
  },
  {
   "cell_type": "code",
   "execution_count": 5,
   "id": "39b79c8f-2a2c-46af-a744-bbfd42f2e86c",
   "metadata": {},
   "outputs": [
    {
     "data": {
      "text/plain": [
       "int"
      ]
     },
     "execution_count": 5,
     "metadata": {},
     "output_type": "execute_result"
    }
   ],
   "source": [
    "a=20\n",
    "type(a)"
   ]
  },
  {
   "cell_type": "code",
   "execution_count": 6,
   "id": "0945c8da-a901-4b20-af39-7934baa33c77",
   "metadata": {},
   "outputs": [
    {
     "data": {
      "text/plain": [
       "str"
      ]
     },
     "execution_count": 6,
     "metadata": {},
     "output_type": "execute_result"
    }
   ],
   "source": [
    "b=\"ayesha\"\n",
    "type(b)"
   ]
  },
  {
   "cell_type": "code",
   "execution_count": 7,
   "id": "54bc67e8-8a3c-4ee7-bd0a-7987dde81400",
   "metadata": {},
   "outputs": [
    {
     "data": {
      "text/plain": [
       "float"
      ]
     },
     "execution_count": 7,
     "metadata": {},
     "output_type": "execute_result"
    }
   ],
   "source": [
    "c=6.1\n",
    "type(c)"
   ]
  },
  {
   "cell_type": "markdown",
   "id": "51d7ccd7-d84a-40b0-8c18-184e420cbb92",
   "metadata": {},
   "source": [
    "What happens if you try to add a string and an integer?\n"
   ]
  },
  {
   "cell_type": "code",
   "execution_count": 8,
   "id": "46dfdcdc-9421-4e98-bce7-6fb9294bff76",
   "metadata": {},
   "outputs": [
    {
     "ename": "TypeError",
     "evalue": "unsupported operand type(s) for +: 'int' and 'str'",
     "output_type": "error",
     "traceback": [
      "\u001b[1;31m---------------------------------------------------------------------------\u001b[0m",
      "\u001b[1;31mTypeError\u001b[0m                                 Traceback (most recent call last)",
      "Cell \u001b[1;32mIn[8], line 3\u001b[0m\n\u001b[0;32m      1\u001b[0m x\u001b[38;5;241m=\u001b[39m\u001b[38;5;241m10\u001b[39m\n\u001b[0;32m      2\u001b[0m y\u001b[38;5;241m=\u001b[39m\u001b[38;5;124m\"\u001b[39m\u001b[38;5;124mhii\u001b[39m\u001b[38;5;124m\"\u001b[39m\n\u001b[1;32m----> 3\u001b[0m \u001b[38;5;28mprint\u001b[39m(x\u001b[38;5;241m+\u001b[39my)\n",
      "\u001b[1;31mTypeError\u001b[0m: unsupported operand type(s) for +: 'int' and 'str'"
     ]
    }
   ],
   "source": [
    "x=10\n",
    "y=\"hii\"\n",
    "print(x+y)"
   ]
  },
  {
   "cell_type": "markdown",
   "id": "fa09e063-7317-4d79-b298-c755dba72b53",
   "metadata": {},
   "source": [
    "What is the output of:\n",
    "x = [1, 2, 3]\n",
    "y = (1, 2, 3)\n",
    "z = {1, 2, 3}\n",
    "print(type(x), type(y), type(z))\n"
   ]
  },
  {
   "cell_type": "code",
   "execution_count": 11,
   "id": "57588c09-3c32-40f2-b64e-f511ab8cef1d",
   "metadata": {},
   "outputs": [
    {
     "name": "stdout",
     "output_type": "stream",
     "text": [
      "<class 'list'> <class 'tuple'> <class 'set'>\n"
     ]
    }
   ],
   "source": [
    "x = [1, 2, 3] \n",
    "y = (1, 2, 3)\n",
    "z = {1, 2, 3} \n",
    "print(type(x), type(y), type(z))"
   ]
  },
  {
   "cell_type": "markdown",
   "id": "63d7074e-3f8f-47ce-a11b-8ec833bda9ba",
   "metadata": {},
   "source": [
    "Can you change a value in a tuple once it is defined? Why or why not?\n"
   ]
  },
  {
   "cell_type": "markdown",
   "id": "82c3a918-187e-4da2-8d3e-8735f04f003c",
   "metadata": {},
   "source": [
    "No, you cannot change a value in a tuple once it is defined, because tuples are immutable in Python."
   ]
  },
  {
   "cell_type": "markdown",
   "id": "e4a176e5-8387-4268-bacd-fcf15ce251c6",
   "metadata": {},
   "source": [
    "Is reassignment possible for immutable datatypes?\n",
    "\n"
   ]
  },
  {
   "cell_type": "code",
   "execution_count": null,
   "id": "28ff78be-eade-474c-ab2a-207c3fff6c10",
   "metadata": {},
   "outputs": [],
   "source": []
  }
 ],
 "metadata": {
  "kernelspec": {
   "display_name": "Python [conda env:base] *",
   "language": "python",
   "name": "conda-base-py"
  },
  "language_info": {
   "codemirror_mode": {
    "name": "ipython",
    "version": 3
   },
   "file_extension": ".py",
   "mimetype": "text/x-python",
   "name": "python",
   "nbconvert_exporter": "python",
   "pygments_lexer": "ipython3",
   "version": "3.13.5"
  }
 },
 "nbformat": 4,
 "nbformat_minor": 5
}
