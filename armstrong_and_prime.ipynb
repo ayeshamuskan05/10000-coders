{
 "cells": [
  {
   "cell_type": "markdown",
   "id": "55a6eed5-21fc-478c-9eca-1b1dc89e0a4d",
   "metadata": {},
   "source": [
    "Armstrong numbers in prime"
   ]
  },
  {
   "cell_type": "code",
   "execution_count": 2,
   "id": "5419fcb4-9c21-4074-bf23-f03f8657e311",
   "metadata": {},
   "outputs": [
    {
     "name": "stdin",
     "output_type": "stream",
     "text": [
      "Enter lower range:  1\n",
      "Enter upper range:  1000\n"
     ]
    },
    {
     "name": "stdout",
     "output_type": "stream",
     "text": [
      "Armstrong numbers between 1 and 1000 are:\n",
      "1\n",
      "2\n",
      "3\n",
      "4\n",
      "5\n",
      "6\n",
      "7\n",
      "8\n",
      "9\n",
      "153\n",
      "370\n",
      "371\n",
      "407\n"
     ]
    }
   ],
   "source": [
    "lower = int(input(\"Enter lower range: \"))\n",
    "upper = int(input(\"Enter upper range: \"))\n",
    "\n",
    "print(f\"Armstrong numbers between {lower} and {upper} are:\")\n",
    "\n",
    "for num in range(lower, upper + 1):\n",
    "    digits = str(num)\n",
    "    power = len(digits)\n",
    "    total = sum(int(digit) ** power for digit in digits)\n",
    "    \n",
    "    if num == total:\n",
    "        print(num)\n"
   ]
  },
  {
   "cell_type": "markdown",
   "id": "c37e3055-0437-4718-81dd-a0258c425222",
   "metadata": {},
   "source": [
    "prime numbers in range"
   ]
  },
  {
   "cell_type": "code",
   "execution_count": 3,
   "id": "7d095972-0c23-49fc-8473-466fbd19a67b",
   "metadata": {},
   "outputs": [
    {
     "name": "stdin",
     "output_type": "stream",
     "text": [
      "Enter lower range:  10\n",
      "Enter upper range:  30\n"
     ]
    },
    {
     "name": "stdout",
     "output_type": "stream",
     "text": [
      "Prime numbers between 10 and 30 are:\n",
      "11\n",
      "13\n",
      "17\n",
      "19\n",
      "23\n",
      "29\n"
     ]
    }
   ],
   "source": [
    "lower = int(input(\"Enter lower range: \"))\n",
    "upper = int(input(\"Enter upper range: \"))\n",
    "\n",
    "print(f\"Prime numbers between {lower} and {upper} are:\")\n",
    "\n",
    "for num in range(lower, upper + 1):\n",
    "    if num > 1:   # primes are greater than 1\n",
    "        for i in range(2, num):\n",
    "            if num % i == 0:\n",
    "                break\n",
    "        else:\n",
    "            print(num)\n"
   ]
  },
  {
   "cell_type": "code",
   "execution_count": null,
   "id": "9c2fbae3-2953-4aee-a0d9-f3fa5552c28e",
   "metadata": {},
   "outputs": [],
   "source": []
  }
 ],
 "metadata": {
  "kernelspec": {
   "display_name": "Python [conda env:base] *",
   "language": "python",
   "name": "conda-base-py"
  },
  "language_info": {
   "codemirror_mode": {
    "name": "ipython",
    "version": 3
   },
   "file_extension": ".py",
   "mimetype": "text/x-python",
   "name": "python",
   "nbconvert_exporter": "python",
   "pygments_lexer": "ipython3",
   "version": "3.13.5"
  }
 },
 "nbformat": 4,
 "nbformat_minor": 5
}
