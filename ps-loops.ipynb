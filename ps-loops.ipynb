{
 "cells": [
  {
   "cell_type": "markdown",
   "id": "cf3c2cfb-1774-4eaa-af17-c1abdb2ebda5",
   "metadata": {},
   "source": [
    "Find even digits in a number."
   ]
  },
  {
   "cell_type": "code",
   "execution_count": 1,
   "id": "7fd435bf-141b-40af-902a-053c374f2efe",
   "metadata": {},
   "outputs": [
    {
     "name": "stdin",
     "output_type": "stream",
     "text": [
      "Enter a number:  4587\n"
     ]
    },
    {
     "name": "stdout",
     "output_type": "stream",
     "text": [
      "Even digits are: 4 8 "
     ]
    }
   ],
   "source": [
    "num = int(input(\"Enter a number: \"))\n",
    "print(\"Even digits are:\", end=\" \")\n",
    "\n",
    "for digit in str(num):\n",
    "    if int(digit) % 2 == 0:\n",
    "        print(digit, end=\" \")\n"
   ]
  },
  {
   "cell_type": "markdown",
   "id": "7317f1ad-7dfd-4139-a934-728a1a267c8a",
   "metadata": {},
   "source": [
    "Find prime digits in a number.\n"
   ]
  },
  {
   "cell_type": "code",
   "execution_count": 2,
   "id": "02fbd589-6dc7-4b6c-a3bc-908047655b55",
   "metadata": {},
   "outputs": [
    {
     "name": "stdin",
     "output_type": "stream",
     "text": [
      "Enter a number:  456789\n"
     ]
    },
    {
     "name": "stdout",
     "output_type": "stream",
     "text": [
      "Prime digits are: 5 7 "
     ]
    }
   ],
   "source": [
    "num = int(input(\"Enter a number: \"))\n",
    "print(\"Prime digits are:\", end=\" \")\n",
    "\n",
    "for digit in str(num):\n",
    "    if digit in ['2', '3', '5', '7']:\n",
    "        print(digit, end=\" \")\n"
   ]
  },
  {
   "cell_type": "markdown",
   "id": "bc714a42-8fd9-4a38-bdad-5d9340e9abb6",
   "metadata": {},
   "source": [
    "Perfect number.\n"
   ]
  },
  {
   "cell_type": "code",
   "execution_count": null,
   "id": "abf86979-6ee8-4df3-98b2-3458931c6801",
   "metadata": {},
   "outputs": [],
   "source": [
    "num = int(input(\"Enter a number: \"))\n",
    "sum_of_divisors = 0\n",
    "\n",
    "for i in range(1, num):\n",
    "    if num % i == 0:\n",
    "        sum_of_divisors += i\n",
    "\n",
    "if sum_of_divisors == num:\n",
    "    print(num, \"is a Perfect Number\")\n",
    "else:\n",
    "    print(num, \"is NOT a Perfect Number\")\n"
   ]
  },
  {
   "cell_type": "code",
   "execution_count": null,
   "id": "ca337ad3-ff31-4f1d-ab17-93b288d5c4da",
   "metadata": {},
   "outputs": [],
   "source": []
  }
 ],
 "metadata": {
  "kernelspec": {
   "display_name": "Python [conda env:base] *",
   "language": "python",
   "name": "conda-base-py"
  },
  "language_info": {
   "codemirror_mode": {
    "name": "ipython",
    "version": 3
   },
   "file_extension": ".py",
   "mimetype": "text/x-python",
   "name": "python",
   "nbconvert_exporter": "python",
   "pygments_lexer": "ipython3",
   "version": "3.13.5"
  }
 },
 "nbformat": 4,
 "nbformat_minor": 5
}
